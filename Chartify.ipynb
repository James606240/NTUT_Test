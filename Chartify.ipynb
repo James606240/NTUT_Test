{
  "nbformat": 4,
  "nbformat_minor": 0,
  "metadata": {
    "colab": {
      "name": "Chartify.ipynb",
      "provenance": [],
      "collapsed_sections": [],
      "authorship_tag": "ABX9TyOeGByvLV1jwspuD8T/cP9O",
      "include_colab_link": true
    },
    "kernelspec": {
      "name": "python3",
      "display_name": "Python 3"
    },
    "language_info": {
      "name": "python"
    }
  },
  "cells": [
    {
      "cell_type": "markdown",
      "metadata": {
        "id": "view-in-github",
        "colab_type": "text"
      },
      "source": [
        "<a href=\"https://colab.research.google.com/github/James606240/NTUT_Test/blob/main/Chartify.ipynb\" target=\"_parent\"><img src=\"https://colab.research.google.com/assets/colab-badge.svg\" alt=\"Open In Colab\"/></a>"
      ]
    },
    {
      "cell_type": "markdown",
      "metadata": {
        "id": "R7GDnrrWJwT2"
      },
      "source": [
        "https://leemeng.tw/chartify-a-simple-yet-powerful-python-data-visualization-tool-which-boost-your-productivity-as-a-data-scientist.html"
      ]
    },
    {
      "cell_type": "code",
      "metadata": {
        "id": "EBjwEU6ZYhbI",
        "colab": {
          "base_uri": "https://localhost:8080/"
        },
        "outputId": "4965390a-2c78-4081-d4d3-c870542e7a59"
      },
      "source": [
        "!pip install -q chartify\n",
        "import pandas as pd\n",
        "import chartify"
      ],
      "execution_count": null,
      "outputs": [
        {
          "output_type": "stream",
          "text": [
            "\u001b[K     |████████████████████████████████| 71kB 3.9MB/s \n",
            "\u001b[K     |████████████████████████████████| 122kB 7.2MB/s \n",
            "\u001b[K     |████████████████████████████████| 942kB 9.7MB/s \n",
            "\u001b[K     |████████████████████████████████| 788kB 17.7MB/s \n",
            "\u001b[K     |████████████████████████████████| 645kB 25.4MB/s \n",
            "\u001b[K     |████████████████████████████████| 368kB 18.4MB/s \n",
            "\u001b[31mERROR: jupyter-console 5.2.0 has requirement prompt-toolkit<2.0.0,>=1.0.0, but you'll have prompt-toolkit 3.0.18 which is incompatible.\u001b[0m\n",
            "\u001b[31mERROR: google-colab 1.0.0 has requirement ipykernel~=4.10, but you'll have ipykernel 5.5.3 which is incompatible.\u001b[0m\n",
            "\u001b[31mERROR: google-colab 1.0.0 has requirement ipython~=5.5.0, but you'll have ipython 7.23.0 which is incompatible.\u001b[0m\n",
            "\u001b[?25h"
          ],
          "name": "stdout"
        }
      ]
    },
    {
      "cell_type": "code",
      "metadata": {
        "id": "w7kCMtbP4izQ",
        "colab": {
          "base_uri": "https://localhost:8080/",
          "height": 195
        },
        "outputId": "f4ae582a-ee80-4e03-eafa-20e487e31598"
      },
      "source": [
        "df = chartify.examples.example_data()\n",
        "df.head()"
      ],
      "execution_count": null,
      "outputs": [
        {
          "output_type": "execute_result",
          "data": {
            "text/html": [
              "<div>\n",
              "<style scoped>\n",
              "    .dataframe tbody tr th:only-of-type {\n",
              "        vertical-align: middle;\n",
              "    }\n",
              "\n",
              "    .dataframe tbody tr th {\n",
              "        vertical-align: top;\n",
              "    }\n",
              "\n",
              "    .dataframe thead th {\n",
              "        text-align: right;\n",
              "    }\n",
              "</style>\n",
              "<table border=\"1\" class=\"dataframe\">\n",
              "  <thead>\n",
              "    <tr style=\"text-align: right;\">\n",
              "      <th></th>\n",
              "      <th>date</th>\n",
              "      <th>country</th>\n",
              "      <th>fruit</th>\n",
              "      <th>unit_price</th>\n",
              "      <th>quantity</th>\n",
              "      <th>total_price</th>\n",
              "    </tr>\n",
              "  </thead>\n",
              "  <tbody>\n",
              "    <tr>\n",
              "      <th>0</th>\n",
              "      <td>2017-10-21</td>\n",
              "      <td>US</td>\n",
              "      <td>Banana</td>\n",
              "      <td>0.303711</td>\n",
              "      <td>4</td>\n",
              "      <td>1.214846</td>\n",
              "    </tr>\n",
              "    <tr>\n",
              "      <th>1</th>\n",
              "      <td>2017-05-30</td>\n",
              "      <td>JP</td>\n",
              "      <td>Banana</td>\n",
              "      <td>0.254109</td>\n",
              "      <td>4</td>\n",
              "      <td>1.016436</td>\n",
              "    </tr>\n",
              "    <tr>\n",
              "      <th>2</th>\n",
              "      <td>2017-05-21</td>\n",
              "      <td>CA</td>\n",
              "      <td>Banana</td>\n",
              "      <td>0.268635</td>\n",
              "      <td>4</td>\n",
              "      <td>1.074539</td>\n",
              "    </tr>\n",
              "    <tr>\n",
              "      <th>3</th>\n",
              "      <td>2017-09-18</td>\n",
              "      <td>BR</td>\n",
              "      <td>Grape</td>\n",
              "      <td>2.215277</td>\n",
              "      <td>2</td>\n",
              "      <td>4.430554</td>\n",
              "    </tr>\n",
              "    <tr>\n",
              "      <th>4</th>\n",
              "      <td>2017-12-08</td>\n",
              "      <td>US</td>\n",
              "      <td>Banana</td>\n",
              "      <td>0.308337</td>\n",
              "      <td>5</td>\n",
              "      <td>1.541687</td>\n",
              "    </tr>\n",
              "  </tbody>\n",
              "</table>\n",
              "</div>"
            ],
            "text/plain": [
              "        date country   fruit  unit_price  quantity  total_price\n",
              "0 2017-10-21      US  Banana    0.303711         4     1.214846\n",
              "1 2017-05-30      JP  Banana    0.254109         4     1.016436\n",
              "2 2017-05-21      CA  Banana    0.268635         4     1.074539\n",
              "3 2017-09-18      BR   Grape    2.215277         2     4.430554\n",
              "4 2017-12-08      US  Banana    0.308337         5     1.541687"
            ]
          },
          "metadata": {
            "tags": []
          },
          "execution_count": 10
        }
      ]
    },
    {
      "cell_type": "code",
      "metadata": {
        "colab": {
          "base_uri": "https://localhost:8080/",
          "height": 197
        },
        "id": "QCfl7f2E4DMo",
        "outputId": "4a7c2ab6-177a-48b8-9a8b-0a4f23c13d14"
      },
      "source": [
        "ch=chartify.Chart()\n",
        "ch.plot.scatter(data_frame=df, x_column='unit_price', y_column='total_price')\n",
        "ch.show()"
      ],
      "execution_count": null,
      "outputs": [
        {
          "output_type": "error",
          "ename": "NameError",
          "evalue": "ignored",
          "traceback": [
            "\u001b[0;31m---------------------------------------------------------------------------\u001b[0m",
            "\u001b[0;31mNameError\u001b[0m                                 Traceback (most recent call last)",
            "\u001b[0;32m<ipython-input-1-539fc54c1537>\u001b[0m in \u001b[0;36m<module>\u001b[0;34m()\u001b[0m\n\u001b[0;32m----> 1\u001b[0;31m \u001b[0mch\u001b[0m\u001b[0;34m=\u001b[0m\u001b[0mchartify\u001b[0m\u001b[0;34m.\u001b[0m\u001b[0mChart\u001b[0m\u001b[0;34m(\u001b[0m\u001b[0;34m)\u001b[0m\u001b[0;34m\u001b[0m\u001b[0;34m\u001b[0m\u001b[0m\n\u001b[0m\u001b[1;32m      2\u001b[0m \u001b[0mch\u001b[0m\u001b[0;34m.\u001b[0m\u001b[0mplot\u001b[0m\u001b[0;34m.\u001b[0m\u001b[0mscatter\u001b[0m\u001b[0;34m(\u001b[0m\u001b[0mdata_frame\u001b[0m\u001b[0;34m=\u001b[0m\u001b[0mdf\u001b[0m\u001b[0;34m,\u001b[0m \u001b[0mx_column\u001b[0m\u001b[0;34m=\u001b[0m\u001b[0;34m'unit_price'\u001b[0m\u001b[0;34m,\u001b[0m \u001b[0my_column\u001b[0m\u001b[0;34m=\u001b[0m\u001b[0;34m'total_price'\u001b[0m\u001b[0;34m)\u001b[0m\u001b[0;34m\u001b[0m\u001b[0;34m\u001b[0m\u001b[0m\n\u001b[1;32m      3\u001b[0m \u001b[0mch\u001b[0m\u001b[0;34m.\u001b[0m\u001b[0mshow\u001b[0m\u001b[0;34m(\u001b[0m\u001b[0;34m)\u001b[0m\u001b[0;34m\u001b[0m\u001b[0;34m\u001b[0m\u001b[0m\n",
            "\u001b[0;31mNameError\u001b[0m: name 'chartify' is not defined"
          ]
        }
      ]
    },
    {
      "cell_type": "code",
      "metadata": {
        "id": "MNoL_BNVJUeD"
      },
      "source": [
        "df.pivot_table(\n",
        "    values=['unit_price'], \n",
        "    index='country', \n",
        "    columns=['fruit'])"
      ],
      "execution_count": null,
      "outputs": []
    },
    {
      "cell_type": "code",
      "metadata": {
        "id": "HDMG7XWVJ1qz"
      },
      "source": [
        "ch = chartify.Chart()\n",
        "ch.plot.scatter(\n",
        "    data_frame=df, \n",
        "    x_column='unit_price', \n",
        "    y_column='total_price'\n",
        ")\n",
        "ch.show('png')"
      ],
      "execution_count": null,
      "outputs": []
    }
  ]
}