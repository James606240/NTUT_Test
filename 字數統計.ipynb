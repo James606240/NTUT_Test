{
  "nbformat": 4,
  "nbformat_minor": 0,
  "metadata": {
    "colab": {
      "name": "字數統計.ipynb",
      "provenance": [],
      "collapsed_sections": [],
      "authorship_tag": "ABX9TyP1LiJcJONBslMdfrSIWx8s",
      "include_colab_link": true
    },
    "kernelspec": {
      "name": "python3",
      "display_name": "Python 3"
    },
    "language_info": {
      "name": "python"
    }
  },
  "cells": [
    {
      "cell_type": "markdown",
      "metadata": {
        "id": "view-in-github",
        "colab_type": "text"
      },
      "source": [
        "<a href=\"https://colab.research.google.com/github/James606240/NTUT_Test/blob/main/%E5%AD%97%E6%95%B8%E7%B5%B1%E8%A8%88.ipynb\" target=\"_parent\"><img src=\"https://colab.research.google.com/assets/colab-badge.svg\" alt=\"Open In Colab\"/></a>"
      ]
    },
    {
      "cell_type": "code",
      "metadata": {
        "colab": {
          "base_uri": "https://localhost:8080/"
        },
        "id": "HQhJIvIF8xOF",
        "outputId": "f265ed24-6b15-419a-8575-1f05a5ac700b"
      },
      "source": [
        "# from google.colab import files\n",
        "# uploaded = files.upload()\n",
        "\n",
        "with open(\"/content/santaclaus.txt\") as file:\n",
        "    text=file.read()\n",
        "    space=0\n",
        "    newline=0\n",
        "    \n",
        "    for char in text:\n",
        "        if char==' ':\n",
        "            space+=1\n",
        "        if char=='\\n':\n",
        "            newline+=1\n",
        "\n",
        "print(\"a字數:\", text.count('a'),\"個字\")\n",
        "print(\"b字數:\", text.count('b'),\"個字\")\n",
        "print(\"c字數:\", text.count('c'),\"個字\")\n",
        "print(\"d字數:\", text.count('d'),\"個字\")\n",
        "print(\"e字數:\", text.count('e'),\"個字\")\n",
        "print(\"f字數:\", text.count('f'),\"個字\")\n",
        "print(\"g字數:\", text.count('g'),\"個字\")\n",
        "print(\"h字數:\", text.count('h'),\"個字\")\n",
        "print(\"i字數:\", text.count('i'),\"個字\")\n",
        "print(\"j字數:\", text.count('j'),\"個字\")\n",
        "print(\"k字數:\", text.count('k'),\"個字\")\n",
        "print(\"l字數:\", text.count('l'),\"個字\")\n",
        "print(\"m字數:\", text.count('m'),\"個字\")\n",
        "print(\"n字數:\", text.count('n'),\"個字\")\n",
        "print(\"o字數:\", text.count('o'),\"個字\")\n",
        "print(\"p字數:\", text.count('p'),\"個字\")\n",
        "print(\"q字數:\", text.count('q'),\"個字\")\n",
        "print(\"r字數:\", text.count('r'),\"個字\")\n",
        "print(\"s字數:\", text.count('s'),\"個字\")\n",
        "print(\"t字數:\", text.count('t'),\"個字\")\n",
        "print(\"u字數:\", text.count('u'),\"個字\")\n",
        "print(\"v字數:\", text.count('v'),\"個字\")\n",
        "print(\"w字數:\", text.count('w'),\"個字\")\n",
        "print(\"x字數:\", text.count('x'),\"個字\")\n",
        "print(\"y字數:\", text.count('y'),\"個字\")\n",
        "print(\"z字數:\", text.count('z'),\"個字\")\n",
        "print(\"空白(Space)字數：\", space,\"個字\")\n",
        "print(\"Line feed(換行)and Carriage return(歸位)字數：\", newline,\"個字\")"
      ],
      "execution_count": null,
      "outputs": [
        {
          "output_type": "stream",
          "name": "stdout",
          "text": [
            "a字數: 29 個字\n",
            "b字數: 9 個字\n",
            "c字數: 16 個字\n",
            "d字數: 7 個字\n",
            "e字數: 36 個字\n",
            "f字數: 3 個字\n",
            "g字數: 14 個字\n",
            "h字數: 15 個字\n",
            "i字數: 23 個字\n",
            "j字數: 0 個字\n",
            "k字數: 6 個字\n",
            "l字數: 10 個字\n",
            "m字數: 7 個字\n",
            "n字數: 34 個字\n",
            "o字數: 45 個字\n",
            "p字數: 3 個字\n",
            "q字數: 0 個字\n",
            "r字數: 12 個字\n",
            "s字數: 24 個字\n",
            "t字數: 41 個字\n",
            "u字數: 20 個字\n",
            "v字數: 1 個字\n",
            "w字數: 15 個字\n",
            "x字數: 0 個字\n",
            "y字數: 15 個字\n",
            "z字數: 0 個字\n",
            "空白(Space)字數： 83 個字\n",
            "Line feed(換行)and Carriage return(歸位)字數： 18 個字\n"
          ]
        }
      ]
    },
    {
      "cell_type": "code",
      "metadata": {
        "colab": {
          "base_uri": "https://localhost:8080/"
        },
        "id": "oTlHz9dbE_nX",
        "outputId": "caaf18e0-00c0-4613-e8ff-85e88be5b97e"
      },
      "source": [
        "a=text.count('a')\n",
        "b=text.count('b')\n",
        "c=text.count('c')\n",
        "d=text.count('d')\n",
        "e=text.count('e')\n",
        "f=text.count('f')\n",
        "g=text.count('g')\n",
        "h=text.count('h')\n",
        "i=text.count('i')\n",
        "j=text.count('j')\n",
        "k=text.count('k')\n",
        "l=text.count('l')\n",
        "m=text.count('m')\n",
        "n=text.count('n')\n",
        "o=text.count('o')\n",
        "p=text.count('p')\n",
        "q=text.count('q')\n",
        "r=text.count('r')\n",
        "s=text.count('s')\n",
        "t=text.count('t')\n",
        "u=text.count('u')\n",
        "v=text.count('v')\n",
        "w=text.count('w')\n",
        "x=text.count('x')\n",
        "y=text.count('y')\n",
        "z=text.count('z')\n",
        "sp=space\n",
        "lf=newline\n",
        "\n",
        "print(\"總字數：\", sum([a,b,c,d,e,f,g,h,i,j,k,l,m,n,o,p,q,r,s,t,u,v,w,x,y,z,sp,lf]),\"個字\")"
      ],
      "execution_count": null,
      "outputs": [
        {
          "output_type": "stream",
          "name": "stdout",
          "text": [
            "總字數： 486 個字\n"
          ]
        }
      ]
    },
    {
      "cell_type": "code",
      "metadata": {
        "colab": {
          "base_uri": "https://localhost:8080/"
        },
        "id": "sd8-wlYUR0yZ",
        "outputId": "69a84243-dfa9-4ddf-b079-c6f3ebde2515"
      },
      "source": [
        "import math\n",
        "\n",
        "entropy1 = a/486 * math.log2(1/(a/486)) + b/486 * math.log2(1/(b/486)) + c/486 * math.log2(1/(c/486)) + d/486 * math.log2(1/(d/486)) + e/486 * math.log2(1/(e/486)) + f/486 * math.log2(1/(f/486))\n",
        "entropy2 = g/486 * math.log2(1/(g/486)) + h/486 * math.log2(1/(h/486)) + i/486 * math.log2(1/(i/486)) + k/486 * math.log2(1/(k/486)) + l/486 * math.log2(1/(l/486))\n",
        "entropy3 = m/486 * math.log2(1/(m/486)) + n/486 * math.log2(1/(n/486)) + o/486 * math.log2(1/(o/486)) + p/486 * math.log2(1/(p/486)) + r/486 * math.log2(1/(r/486))\n",
        "entropy4 = s/486 * math.log2(1/(s/486)) + t/486 * math.log2(1/(t/486)) + u/486 * math.log2(1/(u/486)) + v/486 * math.log2(1/(v/486)) + w/486 * math.log2(1/(w/486))\n",
        "entropy5 = y/486 * math.log2(1/(y/486)) + sp/486 * math.log2(1/(sp/486)) + lf/486 * math.log2(1/(lf/486))\n",
        "\n",
        "print(\"H(x)entropy是：\",entropy1+entropy2+entropy3+entropy4+entropy5,\"bits/symbol\")"
      ],
      "execution_count": null,
      "outputs": [
        {
          "output_type": "stream",
          "name": "stdout",
          "text": [
            "H(x)entropy是： 4.123010574863821 bits/symbol\n"
          ]
        }
      ]
    },
    {
      "cell_type": "code",
      "metadata": {
        "id": "y8UHIkw2JPsE"
      },
      "source": [
        "import math\n",
        "\n",
        "try:\n",
        "  entropy1 = a/486 * math.log2(1/(a/486)) + b/486 * math.log2(1/(b/486)) + c/486 * math.log2(1/(c/486)) + d/486 * math.log2(1/(d/486)) + e/486 * math.log2(1/(e/486)) + f/486 * math.log2(1/(f/486))\n",
        "  entropy2 = g/486 * math.log2(1/(g/486)) + h/486 * math.log2(1/(h/486)) + i/486 * math.log2(1/(i/486)) + j/486 * math.log2(1/(j/486)) + k/486 * math.log2(1/(k/486)) + l/486 * math.log2(1/(l/486))\n",
        "  entropy3 = m/486 * math.log2(1/(m/486)) + n/486 * math.log2(1/(n/486)) + o/486 * math.log2(1/(o/486)) + p/486 * math.log2(1/(p/486)) + q/486 * math.log2(1/(q/486)) + r/486 * math.log2(1/(r/486))\n",
        "  entropy4 = s/486 * math.log2(1/(s/486)) + t/486 * math.log2(1/(t/486)) + u/486 * math.log2(1/(u/486)) + v/486 * math.log2(1/(v/486)) + w/486 * math.log2(1/(w/486)) + x/486 * math.log2(1/(x/486))\n",
        "  entropy5 = y/486 * math.log2(1/(y/486)) + z/486 * math.log2(1/(z/486)) + sp/486 * math.log2(1/(sp/486)) + lf/486 * math.log2(1/(lf/486))\n",
        "except ZeroDivisionError:\n",
        "\tentropy1 = 0\n",
        "  entropy2 = 0\n",
        "  entropy3 = 0\n",
        "  entropy4 = 0\n",
        "  entropy5 = 0\n",
        "\n",
        "print(entropy1)"
      ],
      "execution_count": null,
      "outputs": []
    },
    {
      "cell_type": "code",
      "metadata": {
        "id": "Hp0Uh15h9Rk5"
      },
      "source": [
        "# data = pd.read_csv(\"santaclaus.txt\")\n",
        "# data = input(\"santaclaus.txt\")\n",
        "# filename = input (\"Enter the filename: \")\n",
        "#print(\"Tabs are present in these files are \", tab)"
      ],
      "execution_count": null,
      "outputs": []
    }
  ]
}