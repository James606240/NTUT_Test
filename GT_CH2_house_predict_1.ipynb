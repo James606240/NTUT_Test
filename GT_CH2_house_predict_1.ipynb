{
  "nbformat": 4,
  "nbformat_minor": 0,
  "metadata": {
    "colab": {
      "name": "GT_CH2_house_predict_1.ipynb",
      "provenance": [],
      "collapsed_sections": [],
      "authorship_tag": "ABX9TyPIVdCp+dLEueY0/dOctfYr",
      "include_colab_link": true
    },
    "kernelspec": {
      "name": "python3",
      "display_name": "Python 3"
    },
    "language_info": {
      "name": "python"
    },
    "accelerator": "GPU"
  },
  "cells": [
    {
      "cell_type": "markdown",
      "metadata": {
        "id": "view-in-github",
        "colab_type": "text"
      },
      "source": [
        "<a href=\"https://colab.research.google.com/github/James606240/NTUT_Test/blob/main/GT_CH2_house_predict_1.ipynb\" target=\"_parent\"><img src=\"https://colab.research.google.com/assets/colab-badge.svg\" alt=\"Open In Colab\"/></a>"
      ]
    },
    {
      "cell_type": "code",
      "metadata": {
        "id": "xYk-py9_VfGx"
      },
      "source": [
        "import os\n",
        "import numpy as np\n",
        "import pandas as pd\n",
        "import tensorflow as tf\n",
        "import matplotlib.pyplot as plt\n",
        "import requests\n",
        "import tempfile\n",
        "\n",
        "from tensorflow import keras\n",
        "from tensorflow.keras import layers\n",
        "\n",
        "url = 'https://raw.githubusercontent.com/James606240/NTUT_Test/main/kc_house_data.csv'\n",
        "#Not OK：https://github.com/James606240/NTUT_Test/blob/main/kc_house_data.csv\n",
        "data = pd.read_csv(url)\n",
        "pd.options.display.max_columns = 21"
      ],
      "execution_count": null,
      "outputs": []
    },
    {
      "cell_type": "code",
      "metadata": {
        "colab": {
          "base_uri": "https://localhost:8080/",
          "height": 35
        },
        "id": "vbtLM0kVHbsg",
        "outputId": "b0563592-73a8-407d-e189-4c15713d0048"
      },
      "source": [
        "tf = tempfile.NamedTemporaryFile()\n",
        "tf.name"
      ],
      "execution_count": null,
      "outputs": [
        {
          "output_type": "execute_result",
          "data": {
            "application/vnd.google.colaboratory.intrinsic+json": {
              "type": "string"
            },
            "text/plain": [
              "'/tmp/tmp9tt55752'"
            ]
          },
          "metadata": {
            "tags": []
          },
          "execution_count": 2
        }
      ]
    },
    {
      "cell_type": "code",
      "metadata": {
        "colab": {
          "base_uri": "https://localhost:8080/",
          "height": 35
        },
        "id": "KcqwTBefLHEg",
        "outputId": "41a36c61-9fd8-413f-cd0c-f0883ec2abe5"
      },
      "source": [
        "tf1 = tempfile.NamedTemporaryFile()\n",
        "tf1.name"
      ],
      "execution_count": null,
      "outputs": [
        {
          "output_type": "execute_result",
          "data": {
            "application/vnd.google.colaboratory.intrinsic+json": {
              "type": "string"
            },
            "text/plain": [
              "'/tmp/tmp2mzm6re0'"
            ]
          },
          "metadata": {
            "tags": []
          },
          "execution_count": 3
        }
      ]
    },
    {
      "cell_type": "code",
      "metadata": {
        "id": "K14eWIVuVx3h"
      },
      "source": [
        "data.dtypes\n",
        "data['year'] = pd.to_numeric(data['date'].str.slice(0, 4))\n",
        "data['month'] = pd.to_numeric(data['date'].str.slice(4, 6))\n",
        "data['day'] = pd.to_numeric(data['date'].str.slice(6, 8))\n",
        "pd.options.display.max_columns = 24"
      ],
      "execution_count": null,
      "outputs": []
    },
    {
      "cell_type": "code",
      "metadata": {
        "id": "mApqzXZPVqCA"
      },
      "source": [
        "data.drop(['id'], axis=\"columns\", inplace=True)\n",
        "data.drop(['date'], axis=\"columns\", inplace=True)"
      ],
      "execution_count": null,
      "outputs": []
    },
    {
      "cell_type": "code",
      "metadata": {
        "id": "PIyw1y7xfA6Z"
      },
      "source": [
        "data_num = data.shape[0]\n",
        "indexes = np.random.permutation(data_num)\n",
        "train_indexes = indexes[:int(data_num *0.6)]\n",
        "val_indexes = indexes[int(data_num *0.6):int(data_num *0.8)]\n",
        "test_indexes = indexes[int(data_num *0.8):]\n",
        "train_data = data.loc[train_indexes]\n",
        "val_data = data.loc[val_indexes]\n",
        "test_data = data.loc[test_indexes]"
      ],
      "execution_count": null,
      "outputs": []
    },
    {
      "cell_type": "code",
      "metadata": {
        "id": "M3IVime7kWlG"
      },
      "source": [
        "train_validation_data = pd.concat([train_data, val_data])\n",
        "mean = train_validation_data.mean()\n",
        "std = train_validation_data.std()\n",
        "\n",
        "train_data = (train_data - mean) / std\n",
        "val_data = (val_data - mean) / std"
      ],
      "execution_count": null,
      "outputs": []
    },
    {
      "cell_type": "code",
      "metadata": {
        "cellView": "code",
        "id": "UGZm-X_2zCmu"
      },
      "source": [
        "x_train = np.array(train_data.drop('price', axis='columns'))\n",
        "y_train = np.array(train_data['price'])\n",
        "x_val = np.array(val_data.drop('price', axis='columns'))\n",
        "y_val = np.array(val_data['price'])"
      ],
      "execution_count": null,
      "outputs": []
    },
    {
      "cell_type": "code",
      "metadata": {
        "colab": {
          "base_uri": "https://localhost:8080/"
        },
        "id": "BxNINypQ5z0g",
        "outputId": "e5870d38-c7fc-4e11-83f4-bdf41e614af1"
      },
      "source": [
        "##model_1名稱需一直修\n",
        "model_1 = keras.Sequential(name='model-1')\n",
        "model_1.add(layers.Dense(4, activation='relu', input_shape=(21,), name=\"layer1\"))# 設為4個Unit\n",
        "model_1.add(layers.Dense(4, activation='relu', name=\"layer2\"))# 設為4個Unit\n",
        "model_1.add(layers.Dense(1, name=\"layer3\"))\n",
        "model_1.compile(keras.optimizers.Adam(0.001),\n",
        "              loss=keras.losses.MeanSquaredError(),\n",
        "              metrics=[keras.metrics.MeanAbsoluteError()])\n",
        "model_dir = str(tf)\n",
        "os.makedirs(model_dir)\n",
        "log_dir = os.path.join('lab2-logs', 'model-1')\n",
        "model_cbk = keras.callbacks.TensorBoard(log_dir=log_dir)\n",
        "model_mckp = keras.callbacks.ModelCheckpoint(model_dir + '/Best-model-1.h5', \n",
        "                                        monitor='val_mean_absolute_error', \n",
        "                                        save_best_only=True, \n",
        "                                        mode='min')\n",
        "##model_1名稱需一直修\n",
        "model_1.fit(x_train, y_train,  # 傳入訓練數據\n",
        "               batch_size=4,  # 批次大小設為4\n",
        "               epochs=1,  # 整個dataset訓練1遍\n",
        "               validation_data=(x_val, y_val),  # 驗證數據\n",
        "               callbacks=[model_cbk, model_mckp])  # Tensorboard回調函數紀錄訓練過程，ModelCheckpoint回調函數儲存最好的模型"
      ],
      "execution_count": null,
      "outputs": [
        {
          "output_type": "stream",
          "text": [
            "3242/3242 [==============================] - 14s 4ms/step - loss: 0.6965 - mean_absolute_error: 0.5663 - val_loss: 0.2898 - val_mean_absolute_error: 0.3762\n"
          ],
          "name": "stdout"
        },
        {
          "output_type": "execute_result",
          "data": {
            "text/plain": [
              "<tensorflow.python.keras.callbacks.History at 0x7f557052e3d0>"
            ]
          },
          "metadata": {
            "tags": []
          },
          "execution_count": 9
        }
      ]
    },
    {
      "cell_type": "code",
      "metadata": {
        "colab": {
          "base_uri": "https://localhost:8080/"
        },
        "id": "vm_9UhC7KGvD",
        "outputId": "4178a277-29b1-4de7-b3b7-8d292bc01f78"
      },
      "source": [
        "#model_2名稱需一直修\n",
        "model_2 = keras.Sequential(name='model-2')\n",
        "model_2.add(layers.Dense(64, activation='relu', input_shape=(21,), name=\"layer1\"))# 設為4個Unit\n",
        "model_2.add(layers.Dense(64, activation='relu', name=\"layer2\"))# 設為64個Unit\n",
        "model_2.add(layers.Dense(1, name=\"layer3\"))\n",
        "model_2.compile(keras.optimizers.Adam(0.001),\n",
        "              loss=keras.losses.MeanSquaredError(),\n",
        "              metrics=[keras.metrics.MeanAbsoluteError()])\n",
        "model_dir = str(tf1)\n",
        "os.makedirs(model_dir)\n",
        "log_dir = os.path.join('lab2-logs', 'model-2')\n",
        "model_cbk = keras.callbacks.TensorBoard(log_dir=log_dir)\n",
        "model_mckp = keras.callbacks.ModelCheckpoint(model_dir + '/Best-model-2.h5', \n",
        "                                        monitor='val_mean_absolute_error', \n",
        "                                        save_best_only=True, \n",
        "                                        mode='min')\n",
        "##model_2名稱需一直修\n",
        "model_2.fit(x_train, y_train,  # 傳入訓練數據\n",
        "               batch_size=64,  # 批次大小設為64\n",
        "               epochs=50,  # 整個dataset訓練50遍\n",
        "               validation_data=(x_val, y_val),  # 驗證數據\n",
        "               callbacks=[model_cbk, model_mckp])  # Tensorboard回調函數紀錄訓練過程，ModelCheckpoint回調函數儲存最好的模型"
      ],
      "execution_count": null,
      "outputs": [
        {
          "output_type": "stream",
          "text": [
            "Epoch 1/50\n",
            "203/203 [==============================] - 2s 6ms/step - loss: 0.4188 - mean_absolute_error: 0.4146 - val_loss: 0.2083 - val_mean_absolute_error: 0.2894\n",
            "Epoch 2/50\n",
            "203/203 [==============================] - 1s 4ms/step - loss: 0.2148 - mean_absolute_error: 0.2774 - val_loss: 0.1850 - val_mean_absolute_error: 0.2725\n",
            "Epoch 3/50\n",
            "203/203 [==============================] - 1s 4ms/step - loss: 0.1721 - mean_absolute_error: 0.2575 - val_loss: 0.1709 - val_mean_absolute_error: 0.2563\n",
            "Epoch 4/50\n",
            "203/203 [==============================] - 1s 4ms/step - loss: 0.1565 - mean_absolute_error: 0.2452 - val_loss: 0.1776 - val_mean_absolute_error: 0.2551\n",
            "Epoch 5/50\n",
            "203/203 [==============================] - 1s 3ms/step - loss: 0.1465 - mean_absolute_error: 0.2324 - val_loss: 0.1626 - val_mean_absolute_error: 0.2485\n",
            "Epoch 6/50\n",
            "203/203 [==============================] - 1s 4ms/step - loss: 0.1332 - mean_absolute_error: 0.2258 - val_loss: 0.1639 - val_mean_absolute_error: 0.2428\n",
            "Epoch 7/50\n",
            "203/203 [==============================] - 1s 3ms/step - loss: 0.1212 - mean_absolute_error: 0.2148 - val_loss: 0.1504 - val_mean_absolute_error: 0.2349\n",
            "Epoch 8/50\n",
            "203/203 [==============================] - 1s 4ms/step - loss: 0.1184 - mean_absolute_error: 0.2133 - val_loss: 0.1444 - val_mean_absolute_error: 0.2295\n",
            "Epoch 9/50\n",
            "203/203 [==============================] - 1s 4ms/step - loss: 0.1102 - mean_absolute_error: 0.2063 - val_loss: 0.1651 - val_mean_absolute_error: 0.2341\n",
            "Epoch 10/50\n",
            "203/203 [==============================] - 1s 3ms/step - loss: 0.1037 - mean_absolute_error: 0.2008 - val_loss: 0.1438 - val_mean_absolute_error: 0.2263\n",
            "Epoch 11/50\n",
            "203/203 [==============================] - 1s 4ms/step - loss: 0.0997 - mean_absolute_error: 0.1969 - val_loss: 0.1444 - val_mean_absolute_error: 0.2256\n",
            "Epoch 12/50\n",
            "203/203 [==============================] - 1s 4ms/step - loss: 0.0996 - mean_absolute_error: 0.1973 - val_loss: 0.1488 - val_mean_absolute_error: 0.2260\n",
            "Epoch 13/50\n",
            "203/203 [==============================] - 1s 3ms/step - loss: 0.1007 - mean_absolute_error: 0.1979 - val_loss: 0.1537 - val_mean_absolute_error: 0.2306\n",
            "Epoch 14/50\n",
            "203/203 [==============================] - 1s 4ms/step - loss: 0.0894 - mean_absolute_error: 0.1915 - val_loss: 0.1437 - val_mean_absolute_error: 0.2254\n",
            "Epoch 15/50\n",
            "203/203 [==============================] - 1s 4ms/step - loss: 0.0935 - mean_absolute_error: 0.1933 - val_loss: 0.1507 - val_mean_absolute_error: 0.2243\n",
            "Epoch 16/50\n",
            "203/203 [==============================] - 1s 4ms/step - loss: 0.0833 - mean_absolute_error: 0.1854 - val_loss: 0.1371 - val_mean_absolute_error: 0.2214\n",
            "Epoch 17/50\n",
            "203/203 [==============================] - 1s 4ms/step - loss: 0.0823 - mean_absolute_error: 0.1862 - val_loss: 0.1398 - val_mean_absolute_error: 0.2216\n",
            "Epoch 18/50\n",
            "203/203 [==============================] - 1s 4ms/step - loss: 0.0860 - mean_absolute_error: 0.1878 - val_loss: 0.1504 - val_mean_absolute_error: 0.2215\n",
            "Epoch 19/50\n",
            "203/203 [==============================] - 1s 4ms/step - loss: 0.0764 - mean_absolute_error: 0.1793 - val_loss: 0.1423 - val_mean_absolute_error: 0.2171\n",
            "Epoch 20/50\n",
            "203/203 [==============================] - 1s 4ms/step - loss: 0.0899 - mean_absolute_error: 0.1860 - val_loss: 0.1383 - val_mean_absolute_error: 0.2190\n",
            "Epoch 21/50\n",
            "203/203 [==============================] - 1s 4ms/step - loss: 0.0790 - mean_absolute_error: 0.1802 - val_loss: 0.1355 - val_mean_absolute_error: 0.2158\n",
            "Epoch 22/50\n",
            "203/203 [==============================] - 1s 4ms/step - loss: 0.0774 - mean_absolute_error: 0.1806 - val_loss: 0.1401 - val_mean_absolute_error: 0.2159\n",
            "Epoch 23/50\n",
            "203/203 [==============================] - 1s 4ms/step - loss: 0.0753 - mean_absolute_error: 0.1754 - val_loss: 0.1400 - val_mean_absolute_error: 0.2279\n",
            "Epoch 24/50\n",
            "203/203 [==============================] - 1s 4ms/step - loss: 0.0750 - mean_absolute_error: 0.1792 - val_loss: 0.1355 - val_mean_absolute_error: 0.2129\n",
            "Epoch 25/50\n",
            "203/203 [==============================] - 1s 4ms/step - loss: 0.0685 - mean_absolute_error: 0.1710 - val_loss: 0.1476 - val_mean_absolute_error: 0.2209\n",
            "Epoch 26/50\n",
            "203/203 [==============================] - 1s 3ms/step - loss: 0.0710 - mean_absolute_error: 0.1748 - val_loss: 0.1440 - val_mean_absolute_error: 0.2188\n",
            "Epoch 27/50\n",
            "203/203 [==============================] - 1s 4ms/step - loss: 0.0669 - mean_absolute_error: 0.1711 - val_loss: 0.1452 - val_mean_absolute_error: 0.2157\n",
            "Epoch 28/50\n",
            "203/203 [==============================] - 1s 4ms/step - loss: 0.0707 - mean_absolute_error: 0.1760 - val_loss: 0.1396 - val_mean_absolute_error: 0.2149\n",
            "Epoch 29/50\n",
            "203/203 [==============================] - 1s 4ms/step - loss: 0.0659 - mean_absolute_error: 0.1694 - val_loss: 0.1495 - val_mean_absolute_error: 0.2188\n",
            "Epoch 30/50\n",
            "203/203 [==============================] - 1s 4ms/step - loss: 0.0664 - mean_absolute_error: 0.1704 - val_loss: 0.1509 - val_mean_absolute_error: 0.2208\n",
            "Epoch 31/50\n",
            "203/203 [==============================] - 1s 4ms/step - loss: 0.0655 - mean_absolute_error: 0.1736 - val_loss: 0.1419 - val_mean_absolute_error: 0.2158\n",
            "Epoch 32/50\n",
            "203/203 [==============================] - 1s 4ms/step - loss: 0.0657 - mean_absolute_error: 0.1693 - val_loss: 0.1498 - val_mean_absolute_error: 0.2197\n",
            "Epoch 33/50\n",
            "203/203 [==============================] - 1s 4ms/step - loss: 0.0653 - mean_absolute_error: 0.1697 - val_loss: 0.1491 - val_mean_absolute_error: 0.2190\n",
            "Epoch 34/50\n",
            "203/203 [==============================] - 1s 4ms/step - loss: 0.0621 - mean_absolute_error: 0.1669 - val_loss: 0.1418 - val_mean_absolute_error: 0.2182\n",
            "Epoch 35/50\n",
            "203/203 [==============================] - 1s 4ms/step - loss: 0.0602 - mean_absolute_error: 0.1645 - val_loss: 0.1489 - val_mean_absolute_error: 0.2191\n",
            "Epoch 36/50\n",
            "203/203 [==============================] - 1s 3ms/step - loss: 0.0609 - mean_absolute_error: 0.1667 - val_loss: 0.1721 - val_mean_absolute_error: 0.2231\n",
            "Epoch 37/50\n",
            "203/203 [==============================] - 1s 4ms/step - loss: 0.0601 - mean_absolute_error: 0.1632 - val_loss: 0.1464 - val_mean_absolute_error: 0.2186\n",
            "Epoch 38/50\n",
            "203/203 [==============================] - 1s 4ms/step - loss: 0.0591 - mean_absolute_error: 0.1639 - val_loss: 0.1421 - val_mean_absolute_error: 0.2198\n",
            "Epoch 39/50\n",
            "203/203 [==============================] - 1s 4ms/step - loss: 0.0626 - mean_absolute_error: 0.1681 - val_loss: 0.1484 - val_mean_absolute_error: 0.2167\n",
            "Epoch 40/50\n",
            "203/203 [==============================] - 1s 4ms/step - loss: 0.0611 - mean_absolute_error: 0.1641 - val_loss: 0.1531 - val_mean_absolute_error: 0.2191\n",
            "Epoch 41/50\n",
            "203/203 [==============================] - 1s 4ms/step - loss: 0.0553 - mean_absolute_error: 0.1613 - val_loss: 0.1491 - val_mean_absolute_error: 0.2215\n",
            "Epoch 42/50\n",
            "203/203 [==============================] - 1s 4ms/step - loss: 0.0568 - mean_absolute_error: 0.1635 - val_loss: 0.1630 - val_mean_absolute_error: 0.2250\n",
            "Epoch 43/50\n",
            "203/203 [==============================] - 1s 4ms/step - loss: 0.0598 - mean_absolute_error: 0.1658 - val_loss: 0.1467 - val_mean_absolute_error: 0.2198\n",
            "Epoch 44/50\n",
            "203/203 [==============================] - 1s 4ms/step - loss: 0.0537 - mean_absolute_error: 0.1581 - val_loss: 0.1555 - val_mean_absolute_error: 0.2193\n",
            "Epoch 45/50\n",
            "203/203 [==============================] - 1s 4ms/step - loss: 0.0564 - mean_absolute_error: 0.1597 - val_loss: 0.1453 - val_mean_absolute_error: 0.2166\n",
            "Epoch 46/50\n",
            "203/203 [==============================] - 1s 4ms/step - loss: 0.0539 - mean_absolute_error: 0.1580 - val_loss: 0.1660 - val_mean_absolute_error: 0.2228\n",
            "Epoch 47/50\n",
            "203/203 [==============================] - 1s 4ms/step - loss: 0.0541 - mean_absolute_error: 0.1600 - val_loss: 0.1479 - val_mean_absolute_error: 0.2208\n",
            "Epoch 48/50\n",
            "203/203 [==============================] - 1s 4ms/step - loss: 0.0533 - mean_absolute_error: 0.1596 - val_loss: 0.1454 - val_mean_absolute_error: 0.2183\n",
            "Epoch 49/50\n",
            "203/203 [==============================] - 1s 4ms/step - loss: 0.0558 - mean_absolute_error: 0.1608 - val_loss: 0.1441 - val_mean_absolute_error: 0.2175\n",
            "Epoch 50/50\n",
            "203/203 [==============================] - 1s 4ms/step - loss: 0.0523 - mean_absolute_error: 0.1582 - val_loss: 0.1533 - val_mean_absolute_error: 0.2193\n"
          ],
          "name": "stdout"
        },
        {
          "output_type": "execute_result",
          "data": {
            "text/plain": [
              "<tensorflow.python.keras.callbacks.History at 0x7f5570096510>"
            ]
          },
          "metadata": {
            "tags": []
          },
          "execution_count": 10
        }
      ]
    },
    {
      "cell_type": "code",
      "metadata": {
        "id": "0iR3bPQa8cS-"
      },
      "source": [
        "# 先將房屋價格取出\n",
        "y_test = np.array(test_data['price'])\n",
        "# 標準化數據\n",
        "test_data = (test_data - mean) / std\n",
        "# 將輸入數據存成Numpy 格式\n",
        "x_test = np.array(test_data.drop('price', axis='columns'))"
      ],
      "execution_count": null,
      "outputs": []
    },
    {
      "cell_type": "code",
      "metadata": {
        "colab": {
          "base_uri": "https://localhost:8080/",
          "height": 372
        },
        "id": "SyerHCX_HR25",
        "outputId": "6d28188b-18b6-425d-c84f-7dbbe7952bf6"
      },
      "source": [
        "##model_1名稱需一直修\n",
        "model_1 = keras.models.load_model('lab2-logs/models/Best-model-1.h5')\n",
        "##model_1名稱需一直修\n",
        "y_pred = model_1.predict(x_test)\n",
        "y_pred = np.reshape(y_pred * std['price'] + mean['price'], y_test.shape)\n",
        "percentage_error = np.mean(np.abs(y_test - y_pred)) / np.mean(y_test) * 100\n",
        "##model_1名稱需一直修\n",
        "print(\"model_1: {:.2f}%\".format(percentage_error))"
      ],
      "execution_count": null,
      "outputs": [
        {
          "output_type": "error",
          "ename": "OSError",
          "evalue": "ignored",
          "traceback": [
            "\u001b[0;31m---------------------------------------------------------------------------\u001b[0m",
            "\u001b[0;31mOSError\u001b[0m                                   Traceback (most recent call last)",
            "\u001b[0;32m<ipython-input-12-fa2db8cf6ed5>\u001b[0m in \u001b[0;36m<module>\u001b[0;34m()\u001b[0m\n\u001b[1;32m      1\u001b[0m \u001b[0;31m##model_1名稱需一直修\u001b[0m\u001b[0;34m\u001b[0m\u001b[0;34m\u001b[0m\u001b[0;34m\u001b[0m\u001b[0m\n\u001b[0;32m----> 2\u001b[0;31m \u001b[0mmodel_1\u001b[0m \u001b[0;34m=\u001b[0m \u001b[0mkeras\u001b[0m\u001b[0;34m.\u001b[0m\u001b[0mmodels\u001b[0m\u001b[0;34m.\u001b[0m\u001b[0mload_model\u001b[0m\u001b[0;34m(\u001b[0m\u001b[0;34m'lab2-logs/models/Best-model-1.h5'\u001b[0m\u001b[0;34m)\u001b[0m\u001b[0;34m\u001b[0m\u001b[0;34m\u001b[0m\u001b[0m\n\u001b[0m\u001b[1;32m      3\u001b[0m \u001b[0;31m##model_1名稱需一直修\u001b[0m\u001b[0;34m\u001b[0m\u001b[0;34m\u001b[0m\u001b[0;34m\u001b[0m\u001b[0m\n\u001b[1;32m      4\u001b[0m \u001b[0my_pred\u001b[0m \u001b[0;34m=\u001b[0m \u001b[0mmodel_1\u001b[0m\u001b[0;34m.\u001b[0m\u001b[0mpredict\u001b[0m\u001b[0;34m(\u001b[0m\u001b[0mx_test\u001b[0m\u001b[0;34m)\u001b[0m\u001b[0;34m\u001b[0m\u001b[0;34m\u001b[0m\u001b[0m\n\u001b[1;32m      5\u001b[0m \u001b[0my_pred\u001b[0m \u001b[0;34m=\u001b[0m \u001b[0mnp\u001b[0m\u001b[0;34m.\u001b[0m\u001b[0mreshape\u001b[0m\u001b[0;34m(\u001b[0m\u001b[0my_pred\u001b[0m \u001b[0;34m*\u001b[0m \u001b[0mstd\u001b[0m\u001b[0;34m[\u001b[0m\u001b[0;34m'price'\u001b[0m\u001b[0;34m]\u001b[0m \u001b[0;34m+\u001b[0m \u001b[0mmean\u001b[0m\u001b[0;34m[\u001b[0m\u001b[0;34m'price'\u001b[0m\u001b[0;34m]\u001b[0m\u001b[0;34m,\u001b[0m \u001b[0my_test\u001b[0m\u001b[0;34m.\u001b[0m\u001b[0mshape\u001b[0m\u001b[0;34m)\u001b[0m\u001b[0;34m\u001b[0m\u001b[0;34m\u001b[0m\u001b[0m\n",
            "\u001b[0;32m/usr/local/lib/python3.7/dist-packages/tensorflow/python/keras/saving/save.py\u001b[0m in \u001b[0;36mload_model\u001b[0;34m(filepath, custom_objects, compile, options)\u001b[0m\n\u001b[1;32m    209\u001b[0m       \u001b[0mfilepath\u001b[0m \u001b[0;34m=\u001b[0m \u001b[0mpath_to_string\u001b[0m\u001b[0;34m(\u001b[0m\u001b[0mfilepath\u001b[0m\u001b[0;34m)\u001b[0m\u001b[0;34m\u001b[0m\u001b[0;34m\u001b[0m\u001b[0m\n\u001b[1;32m    210\u001b[0m       \u001b[0;32mif\u001b[0m \u001b[0misinstance\u001b[0m\u001b[0;34m(\u001b[0m\u001b[0mfilepath\u001b[0m\u001b[0;34m,\u001b[0m \u001b[0msix\u001b[0m\u001b[0;34m.\u001b[0m\u001b[0mstring_types\u001b[0m\u001b[0;34m)\u001b[0m\u001b[0;34m:\u001b[0m\u001b[0;34m\u001b[0m\u001b[0;34m\u001b[0m\u001b[0m\n\u001b[0;32m--> 211\u001b[0;31m         \u001b[0mloader_impl\u001b[0m\u001b[0;34m.\u001b[0m\u001b[0mparse_saved_model\u001b[0m\u001b[0;34m(\u001b[0m\u001b[0mfilepath\u001b[0m\u001b[0;34m)\u001b[0m\u001b[0;34m\u001b[0m\u001b[0;34m\u001b[0m\u001b[0m\n\u001b[0m\u001b[1;32m    212\u001b[0m         \u001b[0;32mreturn\u001b[0m \u001b[0msaved_model_load\u001b[0m\u001b[0;34m.\u001b[0m\u001b[0mload\u001b[0m\u001b[0;34m(\u001b[0m\u001b[0mfilepath\u001b[0m\u001b[0;34m,\u001b[0m \u001b[0mcompile\u001b[0m\u001b[0;34m,\u001b[0m \u001b[0moptions\u001b[0m\u001b[0;34m)\u001b[0m\u001b[0;34m\u001b[0m\u001b[0;34m\u001b[0m\u001b[0m\n\u001b[1;32m    213\u001b[0m \u001b[0;34m\u001b[0m\u001b[0m\n",
            "\u001b[0;32m/usr/local/lib/python3.7/dist-packages/tensorflow/python/saved_model/loader_impl.py\u001b[0m in \u001b[0;36mparse_saved_model\u001b[0;34m(export_dir)\u001b[0m\n\u001b[1;32m    112\u001b[0m                   (export_dir,\n\u001b[1;32m    113\u001b[0m                    \u001b[0mconstants\u001b[0m\u001b[0;34m.\u001b[0m\u001b[0mSAVED_MODEL_FILENAME_PBTXT\u001b[0m\u001b[0;34m,\u001b[0m\u001b[0;34m\u001b[0m\u001b[0;34m\u001b[0m\u001b[0m\n\u001b[0;32m--> 114\u001b[0;31m                    constants.SAVED_MODEL_FILENAME_PB))\n\u001b[0m\u001b[1;32m    115\u001b[0m \u001b[0;34m\u001b[0m\u001b[0m\n\u001b[1;32m    116\u001b[0m \u001b[0;34m\u001b[0m\u001b[0m\n",
            "\u001b[0;31mOSError\u001b[0m: SavedModel file does not exist at: lab2-logs/models/Best-model-1.h5/{saved_model.pbtxt|saved_model.pb}"
          ]
        }
      ]
    },
    {
      "cell_type": "code",
      "metadata": {
        "id": "2tH1TTJ3KXFM"
      },
      "source": [
        "##model_2名稱需一直修\n",
        "model_2 = keras.models.load_model('lab2-logs/models/Best-model-2.h5')\n",
        "##model_2名稱需一直修\n",
        "y_pred = model_2.predict(x_test)\n",
        "y_pred = np.reshape(y_pred * std['price'] + mean['price'], y_test.shape)\n",
        "percentage_error = np.mean(np.abs(y_test - y_pred)) / np.mean(y_test) * 100\n",
        "##model_2名稱需一直修\n",
        "print(\"model_2: {:.2f}%\".format(percentage_error))"
      ],
      "execution_count": null,
      "outputs": []
    }
  ]
}