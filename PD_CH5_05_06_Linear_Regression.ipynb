{
  "nbformat": 4,
  "nbformat_minor": 0,
  "metadata": {
    "anaconda-cloud": {},
    "kernelspec": {
      "display_name": "Python 3",
      "language": "python",
      "name": "python3"
    },
    "language_info": {
      "codemirror_mode": {
        "name": "ipython",
        "version": 3
      },
      "file_extension": ".py",
      "mimetype": "text/x-python",
      "name": "python",
      "nbconvert_exporter": "python",
      "pygments_lexer": "ipython3",
      "version": "3.5.1"
    },
    "colab": {
      "name": "PD_CH5_05.06-Linear-Regression.ipynb",
      "provenance": [],
      "collapsed_sections": [],
      "include_colab_link": true
    }
  },
  "cells": [
    {
      "cell_type": "markdown",
      "metadata": {
        "id": "view-in-github",
        "colab_type": "text"
      },
      "source": [
        "<a href=\"https://colab.research.google.com/github/James606240/NTUT_Test/blob/main/PD_CH5_05_06_Linear_Regression.ipynb\" target=\"_parent\"><img src=\"https://colab.research.google.com/assets/colab-badge.svg\" alt=\"Open In Colab\"/></a>"
      ]
    },
    {
      "cell_type": "markdown",
      "metadata": {
        "id": "VXISfusRENBa"
      },
      "source": [
        "### P.408"
      ]
    },
    {
      "cell_type": "markdown",
      "metadata": {
        "id": "DAPPPoHJEQ0E"
      },
      "source": [
        "# In Depth: Linear Regression"
      ]
    },
    {
      "cell_type": "code",
      "metadata": {
        "collapsed": true,
        "deletable": true,
        "editable": true,
        "id": "xejKMfs7ENBc"
      },
      "source": [
        "%matplotlib inline\n",
        "import matplotlib.pyplot as plt\n",
        "import seaborn as sns; sns.set()\n",
        "import numpy as np"
      ],
      "execution_count": null,
      "outputs": []
    },
    {
      "cell_type": "markdown",
      "metadata": {
        "deletable": true,
        "editable": true,
        "id": "gw-05UrvENBd"
      },
      "source": [
        "## Simple Linear Regression\n",
        "\n",
        "We will start with the most familiar linear regression, a straight-line fit to data.\n",
        "A straight-line fit is a model of the form\n",
        "$$\n",
        "y = ax + b\n",
        "$$\n",
        "where $a$ is commonly known as the *slope*, and $b$ is commonly known as the *intercept*.\n",
        "\n",
        "Consider the following data, which is scattered about a line with a slope of 2 and an intercept of -5:"
      ]
    },
    {
      "cell_type": "code",
      "metadata": {
        "id": "W2EAIAHhErCn"
      },
      "source": [
        "# 就是 y = ax + b"
      ],
      "execution_count": null,
      "outputs": []
    },
    {
      "cell_type": "markdown",
      "metadata": {
        "id": "Do6aBPdJG2AQ"
      },
      "source": [
        "### P.409"
      ]
    },
    {
      "cell_type": "code",
      "metadata": {
        "deletable": true,
        "editable": true,
        "colab": {
          "base_uri": "https://localhost:8080/",
          "height": 268
        },
        "id": "cG1vhyfZENBe",
        "outputId": "deaad50e-b415-4dcf-b135-e6a0c1c46067"
      },
      "source": [
        "rng = np.random.RandomState(1)\n",
        "x = 10 * rng.rand(50)\n",
        "y = 2 * x - 5 + rng.randn(50)\n",
        "plt.scatter(x, y);"
      ],
      "execution_count": null,
      "outputs": [
        {
          "output_type": "display_data",
          "data": {
            "image/png": "[encoded data removed]",
            "text/plain": [
              "<Figure size 432x288 with 1 Axes>"
            ]
          },
          "metadata": {
            "needs_background": "light"
          }
        }
      ]
    },
    {
      "cell_type": "markdown",
      "metadata": {
        "deletable": true,
        "editable": true,
        "id": "Oey4v-51ENBg"
      },
      "source": [
        "We can use Scikit-Learn's ``LinearRegression`` estimator to fit this data and construct the best-fit line:"
      ]
    },
    {
      "cell_type": "code",
      "metadata": {
        "deletable": true,
        "editable": true,
        "colab": {
          "base_uri": "https://localhost:8080/",
          "height": 268
        },
        "id": "0hLzvOd1ENBh",
        "outputId": "d35e0f87-7cad-4983-fac7-626ca4dd0fa4"
      },
      "source": [
        "from sklearn.linear_model import LinearRegression\n",
        "model = LinearRegression(fit_intercept=True)\n",
        "\n",
        "model.fit(x[:, np.newaxis], y)\n",
        "\n",
        "xfit = np.linspace(0, 10, 1000)\n",
        "yfit = model.predict(xfit[:, np.newaxis])\n",
        "# 簡單來說，就是畫出預估貼近的線型\n",
        "plt.scatter(x, y)\n",
        "plt.plot(xfit, yfit);"
      ],
      "execution_count": null,
      "outputs": [
        {
          "output_type": "display_data",
          "data": {
            "image/png": "[encoded data removed]",
            "text/plain": [
              "<Figure size 432x288 with 1 Axes>"
            ]
          },
          "metadata": {
            "needs_background": "light"
          }
        }
      ]
    },
    {
      "cell_type": "markdown",
      "metadata": {
        "id": "NY5OmqmLHCEc"
      },
      "source": [
        "### P.410"
      ]
    },
    {
      "cell_type": "code",
      "metadata": {
        "deletable": true,
        "editable": true,
        "colab": {
          "base_uri": "https://localhost:8080/"
        },
        "id": "CzLBEYNuENBj",
        "outputId": "fbb4a98a-0ba8-43e6-e2ef-29c390254e25"
      },
      "source": [
        "print(\"Model slope(斜率是多少？):    \", model.coef_[0])\n",
        "print(\"Model intercept(X=0時，Y截距是多少？):\", model.intercept_)\n",
        "# 匯出預測線形參數，可以發現與實際的y = 2 * x - 5 + rng.randn(50)\n",
        "\n",
        "# 2與2.02720881036，兩者都是斜率數值差異不大\n",
        "# -5與-4.9，兩者都是Y截距數值差異不大\n",
        "\n",
        "# 結論：成功做出了預測"
      ],
      "execution_count": null,
      "outputs": [
        {
          "output_type": "stream",
          "text": [
            "Model slope(斜率是多少？):     2.0272088103606953\n",
            "Model intercept: -4.998577085553204\n"
          ],
          "name": "stdout"
        }
      ]
    },
    {
      "cell_type": "markdown",
      "metadata": {
        "deletable": true,
        "editable": true,
        "id": "bLfb75hTENBk"
      },
      "source": [
        "The ``LinearRegression`` estimator is much more capable than this, however—in addition to simple straight-line fits, it can also handle multidimensional linear models of the form\n",
        "$$\n",
        "y = a_0 + a_1 x_1 + a_2 x_2 + \\cdots\n",
        "$$\n",
        "where there are multiple $x$ values.\n",
        "Geometrically, this is akin to fitting a plane to points in three dimensions, or fitting a hyper-plane to points in higher dimensions.\n",
        "\n",
        "The multidimensional nature of such regressions makes them more difficult to visualize, but we can see one of these fits in action by building some example data, using NumPy's matrix multiplication operator:"
      ]
    },
    {
      "cell_type": "code",
      "metadata": {
        "id": "Z_sji3OBIABt"
      },
      "source": [
        "# y = a_0 + a_1 x_1 + a_2 x_2 + \\cdots 也是可以用來做預測的，就是曲線!!!"
      ],
      "execution_count": null,
      "outputs": []
    },
    {
      "cell_type": "code",
      "metadata": {
        "deletable": true,
        "editable": true,
        "colab": {
          "base_uri": "https://localhost:8080/"
        },
        "id": "jpeJtvXRENBl",
        "outputId": "a83d7c4c-4532-4fad-b2a8-0c6aa7299667"
      },
      "source": [
        "rng = np.random.RandomState(1)\n",
        "X = 10 * rng.rand(100, 3)\n",
        "y = 0.5 + np.dot(X, [1.5, -2., 1.])\n",
        "\n",
        "model.fit(X, y)\n",
        "print(model.intercept_) #(X=0時，Y截距是多少？)\n",
        "print(model.coef_)　# coef是X的係數項"
      ],
      "execution_count": null,
      "outputs": [
        {
          "output_type": "stream",
          "text": [
            "0.5000000000000051\n",
            "[ 1.5 -2.   1. ]\n"
          ],
          "name": "stdout"
        }
      ]
    },
    {
      "cell_type": "code",
      "metadata": {
        "id": "d2v-4SYeJXR3"
      },
      "source": [
        "# coef = coefficient"
      ],
      "execution_count": null,
      "outputs": []
    },
    {
      "cell_type": "markdown",
      "metadata": {
        "id": "0CODqLhEJSMA"
      },
      "source": [
        "![coefficient1.jpg](data:image/jpeg;base64,iVBORw0KGgoAAAANSUhEUgAAAO4AAABwCAMAAAAuXLwjAAABVlBMVEX///8AAP8AAADDngCPWQLEoAD///3+/v+MVADp6f+PWQDj18Xy9vqcutz8/PwkJCT29v/59vGlpqf39//x8f/Hx//DxMXt7f/l5f/Z2f/+/fiVYADExP9qms31+Pt2dv6pqf9bW/9ubv/h4uKvsLCwyOMnJ/94o9FBQf/Nrxadnf+Jif8jJyf7+fDAwP9/f/+LrtXj7PWjo//LrSrx6cWUlP+0tP9jY/7UwaVSUv7y7eiampqJjI3Wvmq3t//W19fj0pLC1Onj05/WvEMWFv7ZwWBVV1f179Y4OP+XZyhlamvJqTXQz//P3u7KtJft5drr3q46Ov6pgk+baxkxNDR4eXlJSkoAEBS3mHHgz4OOjv+0kmClekG7nXyidSbx6cFLS/+viETPwLPi06zZyrm/onWxjEuogVLRvqHPs1fWwIKhcx2FRgBQUFDbxmXLrD/QysCabTmoYFxIAAANSUlEQVR4nO1c+UPayBefBElQQuS+tEE5PYoFAZFLDkG8ONRqVepqW+z1bWv7///yfZOA4hokCaELu/3s4mQmk8l88t68N5m8KUJ/8C9H8+vXQlykPFz6WqLgV6p2S+IFkVpuaXfR1yk+3dx8VNyo9xyaHqUjQTinrfxY1jZFOqitNK/ht1zqlhSWn17+RexJiUCv0/P19+qPij/rHmrMpTvp6OhSOU0Ykgst7rU7LEiAT6mLL2FUyIVRp6grRXcYF1FuoVY8di3xTnNX+C9PjzKZWPjLIpzc54Gm20R16ZpMlEoUe1GNFXBiKlQR28xVIOmmze1YrrAdq6Qv4EnEv27nquj6Ai4oVHJNFpJ4brsUxrohkW/9bQPuc97C2vrxuJ6GpH3c1t/y+Rbk9XPt8xYoMqZr2mzhItUR14S7h4WDUjx3F0alGFCphKu5L804/NygzPHlQrxyEC5oUbhy96EZK6GmNgbpBVXSFqrPtf+A9FwbS06P0m/P2+1fx0h/8r96G6TdgPzmrxaf/3xyi+lS9ZP37VZLffl+0Hbp0loYo+HYB6QtQLocB0V28z+gW8lBUaVaiAFNqM+nwPIiBtohcewiU+uKRZt/mVDjFpS1PoP0M20Kbc508nNYumDJZkxAl380jRO96nQ70qXcVBwTcF9cpDWx7e3t5QI/bvEP6B4IlgxolrRwcltbvdayMumin3Np07v3mHj79t0JppvG9GD0tFvvTqaEMdvY00Pa0L37+PHjXH1gm7LpavmhF76IVwW6uaomVyqUSvEeulwMG+cwBXS/LhcKcDZ8rXXLpdt4226cNHB6XN+8nRMsMZbu20+QnxHyaYHu3FW9Xv+svnTDuViYZ/2Bxs6IV2ZIKRiRPdKNgY2iKnEs3WUazFWJVUAXXX28vYLhuIk513X3dN/jlM/rebPM04Uq6XpDdbqgzXeleEELY7QSu67+iFXBKRWq2DH10G1qCtVcrAp+txqrXF8f4LEr0A3f5SSaKqBycoLnGO05PVef+dahO4XaM938nr6918KMTed7m42WbgSmGdvagzusrO6LgwPcd6pwd4AnD6UCWOmvYVT5ADMvKKqiUgUkW4FaLIrfAV2cLx18lXyr83PsvE1Xe3vnm58ajWOg0377kG9t/vp1SyH9MTiiq197n0YgXAzW9PcDkWkN+3DEPjqhwFuY3P3yD43REienf/AHf/AHvwU+3z/dg+fB+VVtLZtXs7kRwJxVszGzio2NBpkMO7iSNOT3VWtqdMiopc/czpiPXB6mrF2dhrLv1WlnxGBPf6rRjD07AaqMwZ6qIF/f6SSoMg/f6fAOJKuqSxstfPvDiia/r0pHfhPyQ1rV9HeVOvKbkB9KvqqM/t+Kofja1Zur/C7YTzmll6Ynxyo/wH/KIrvsfuM1mv1JU2Ue/oyCN4afLPKr+ZrxG+E3m0m5K6Tffb6diRu4Hfhfk6fyruBI/9i/5Ioj/50EzMobvVnyTcYnf8SPBcyYsDzxfidnSXLy3JAAX5YkX8vRzfxrknwzQbPlv4FtvCTlvMhl4PFMpBe6h5+ULl5unxz65eKfRl46XTs5CctTqsE/KSsYqoBO/9vYhrfvJH/j7gfrtACnaz0xrbwZ2uqYdm6seryHw3aoH6jrmEZTGlzvOdBbNwRBlMsEjxulzbjm15O7QhupUUSlYTRjGq32w3BtTN8QPSgrbGVt96GNpRHRbWqBrVZ6gIo4Fso9dNcVNrLUeVpHN4s3W0N2qA8KmKzmy30sHqX/3BZiH1g4kvGIOdfhocPtCoIe0sq6wgHVxXmjsoslgSph2Wo0D+Epm99034QIlPNv3/bkRpdQq9BlpVZmC64dwspJQAmsVOFOo32wVJ90U1PfcPjbuW5mSjbd6RRBeJTK5xVB7I6U7gcQbLMa08Qe/NAtsJyaaqM6pLpbuQ2CgIJrSnuTJIikVenFEhDXgGxRVaO56yl8C+LVfdL/0k3p3spt0OoF4YpEHKXtfgyzADsjejELmpFwgOu2jsYog1i1F27U1Gh+9JTqQbozUydTMzrZqoxcMPpcT4vZnTezPXizI34xuKGbVLkcTK45RkA4fKfRVMKIusAifgCF1Zj/b7PflX2RIIgjkZ6yO71sZ0nxby9rwXtPlnSpzzen0Ry46SqeU/0oFK7vb5DG1gortMgCHlc03CPwVCfLfXwulzebsTbbAT/zeXFlXujx3Luqj+GmRqtZBlOl4T0R/L1nVxfoikUn1148IBT9+1kbTBEUL9sj1xIRTK1ubXjwbENMSYaBO4anF5iptkP3fmJV542z7lwk0pIJdEQbiRiKT96UwLReik4x2Ly9F33etW0JG586oB1CZfFeCySXY5hz7iJ3V+ha1I4yT+2JRmMz93hyyhrsN8Xwn71++fI1/HjMng1YW3BCQypPIsMgz+1mOhwGS7Xtdj9sxEFtEO4JtsxyTdUGTOxF7DLATD6yVbPiK1/3PbCAP3sl8+aDUO0oL1is7d7yxpxuRndVB7on8hwRBbOi1T5D154FZDIZ3u/6Rdk6vMRGZyQYU+rT7eIHuKOeLHWMVVnf2INpRktWjLIxqfxdCDAPA/aSd7j0grj7VgWVx3T5yWOLEtJzOfI9hGnChvJ+2LADWlyx2RZAS4jgqN7uK4+UuY1t8jf8OvgXnkyKmytxrJWJoE15P6xJ3uMGhcnGyNZuwFRp7zMNmDF3xizV2tPp5OyEgteDsuLXA4A7cb9EsHQ4KuGi9AHehtOBqb43d6wX7kXp6/W2jFVI5yKRGm7E2VYXd4lycHHFOVQzz6Ma77FIbr3+ufHqfmYVlnLODz3VnXbN2w5HSVYe/JP7ZUwBMqTET2P2yf6ExoPLkFID0fKzmUn/isZkSVJyPEqW3JlsAbOnJElmpNb2zZKzcmN1OMmtjx7cG2D7WrqG7uMYkLycr2m+WZkRMiMEm8lmd/osMonCh5/Oy4z4woUY8mek9MqjBssgs/1MzuPfJ89O830WHUVgPyNJBf0aGfKn6EyO9bGT9n0ZIQKzcsOBRox9H5I1x2D287Rkvhl+pCvo1ahg9vfuCZYCuw80QpJtY81nWdmxbSOFT35cPt4mbZekoGzeZz+dVR57rDoopTGRGWnOl9th9sdoOm5XvPEvK2nukLWjn+MzC0tnlY8rKTsY8G4sbnx02TyEoknYv8SOV/gwJ2M29RSD94T6x2iyDNgZTs/yAyLdmaGepurwD7tBeUCYoYzJ12+ALzv0P+5iNj/D1z5Wqsyah/cQz20fHrNdo/msCmu+XF+FpYax+iOAOqHbfbeX5k/HKqB2aDvVQb+3hTGzU6ptYhXfx24eLzulwpbuLsyZp0ZgzDZAq7mJlc0+/RzTL0zjnwH7U00nwY3P0ps4qLGymvLARIvF6MBQY3pIhpRjfnXdaelfwSJyTqxsSNQiEUMkFBg02y/WhroLNR/c9S4Rl32DfC2v5p+UGV8N8dVfHLVQkaGZWijwfDUqMqDCANgIr9PoXCEW+lWwEE/pWkXKhgNtMPBp8QXLFZlioIa1mgkEajjOkQkUGVTDGboWMtQo4RgxcKImT7cpDx8laPVe0siaSK46EVrbsHm8hxSit7yeLcrtIVI2ZEwk4Rg5Vg5Xk2sU8uIyqLWu2r9GGA3VuilnCBkCoQCNipBGDIiJhCIGxhAqBkIGUIJIjYKz8D/UjUQGKv9juHY994flpcsUcYgWiN0kThOE10Nc8nQdxNLqIrFOzcOpJLGA6R66iOSrcsqhEt1aSPACDBAwGCigEmWw3uIU5xkDnC+GOBQp4jJ8QTQ6SPOf4jC40DmiPSkr4jwpeoFwIcfNKrfo4ZBt3ciB4rq80wgteo02AkSb9BqNUOZNWSnXilqx+bUXXbpFzlCEg0gxCsIFKRY5YIgoLloLREIcHrvFEK4ZqkWfxrQOgiu40qVbXqcQtUFYFpamkcXjASl7V1x4nK4h1rm2vrqbNNqCh4hOLFpx2TyRTKwp3KLyFL3KHMGHhgDQxagxfD4QigB3lqcbUUzXkVrkU9uKhVhAOEySW0gB3VdeRNmSRHkVJLmGmCXQZi/Q3XUhekWgS7k8BOFVbeeFgRcZFwiB3oI0gbPAJsrxdGsvaKzMUazMNVyVe6GELlolcPSN8yZlWbqEg5VdukOXxgE164QL000tWhCVXLT20nWB5NfUi3NlIoZaNBoAIYNVqkUDEY4NRKJM4EVUoAtjuBbBdA0MDOpo1BDhlNB1Hi2tHR56yja0Edxwbh0l0MINT9eSStlcK2Wnkbi0elIu5wbRSzfh8O6uubbK6vnfqAEMrQH7Fz74OooPIhEQJoMLObDRhlokChIO0FE4DxWiEfl0wQwR5fKSjUaWRPDoKGFBC0kH0H2FXDdE8GiLpj1EwrkbPPKuLE3Pd+hawGQ7Fond4IqKW8Q4hmGwWwFpCgd8CS7ghGMOH9G4SKhJM0pMh3Ha6eRDzblp5zS0YnXQiLZCidXphENkdDqQA6rQ07Sle94IV8Dp6VF8SBBM038GXECBjk4u6DH6+PQHPfg/jdr3D+Fj4XIAAAAASUVORK5CYII=)"
      ]
    },
    {
      "cell_type": "markdown",
      "metadata": {
        "id": "_h7dbkwmJqSL"
      },
      "source": [
        "### P.411"
      ]
    },
    {
      "cell_type": "markdown",
      "metadata": {
        "deletable": true,
        "editable": true,
        "id": "7fV8x1haENBm"
      },
      "source": [
        "## Basis Function Regression\n",
        "\n",
        "One trick you can use to adapt linear regression to nonlinear relationships between variables is to transform the data according to *basis functions*.\n",
        "We have seen one version of this before, in the ``PolynomialRegression`` pipeline used in [Hyperparameters and Model Validation](05.03-Hyperparameters-and-Model-Validation.ipynb) and [Feature Engineering](05.04-Feature-Engineering.ipynb).\n",
        "The idea is to take our multidimensional linear model:\n",
        "$$\n",
        "y = a_0 + a_1 x_1 + a_2 x_2 + a_3 x_3 + \\cdots\n",
        "$$\n",
        "and build the $x_1, x_2, x_3,$ and so on, from our single-dimensional input $x$.\n",
        "That is, we let $x_n = f_n(x)$, where $f_n()$ is some function that transforms our data.\n",
        "\n",
        "For example, if $f_n(x) = x^n$, our model becomes a polynomial regression:\n",
        "$$\n",
        "y = a_0 + a_1 x + a_2 x^2 + a_3 x^3 + \\cdots\n",
        "$$\n",
        "Notice that this is *still a linear model*—the linearity refers to the fact that the coefficients $a_n$ never multiply or divide each other.\n",
        "What we have effectively done is taken our one-dimensional $x$ values and projected them into a higher dimension, so that a linear fit can fit more complicated relationships between $x$ and $y$."
      ]
    },
    {
      "cell_type": "markdown",
      "metadata": {
        "deletable": true,
        "editable": true,
        "id": "nAZPk4a-ENBm"
      },
      "source": [
        "### Polynomial basis functions\n",
        "\n",
        "This polynomial projection is useful enough that it is built into Scikit-Learn, using the ``PolynomialFeatures`` transformer:"
      ]
    },
    {
      "cell_type": "code",
      "metadata": {
        "deletable": true,
        "editable": true,
        "colab": {
          "base_uri": "https://localhost:8080/"
        },
        "id": "N3-FyjjlENBm",
        "outputId": "e23f31ef-14ab-41ed-80f8-939b4acdc2ca"
      },
      "source": [
        "from sklearn.preprocessing import PolynomialFeatures\n",
        "x = np.array([2, 3, 4])\n",
        "x"
      ],
      "execution_count": null,
      "outputs": [
        {
          "output_type": "execute_result",
          "data": {
            "text/plain": [
              "array([2, 3, 4])"
            ]
          },
          "metadata": {},
          "execution_count": 17
        }
      ]
    },
    {
      "cell_type": "code",
      "metadata": {
        "colab": {
          "base_uri": "https://localhost:8080/"
        },
        "id": "fi2t4G_qKsiq",
        "outputId": "5334fb69-be8f-4ddd-c63a-693616f4fa2c"
      },
      "source": [
        "poly = PolynomialFeatures(3, include_bias=False)\n",
        "poly.fit_transform(x[:, None])"
      ],
      "execution_count": null,
      "outputs": [
        {
          "output_type": "execute_result",
          "data": {
            "text/plain": [
              "array([[ 2.,  4.,  8.],\n",
              "       [ 3.,  9., 27.],\n",
              "       [ 4., 16., 64.]])"
            ]
          },
          "metadata": {},
          "execution_count": 18
        }
      ]
    },
    {
      "cell_type": "code",
      "metadata": {
        "id": "zuHrIlTxMkho"
      },
      "source": [
        "# PolynomialFeatures，可以理解為專門生成多項式特徵，並且多項式包含的是相互影響的特徵集，比如：一個輸入樣本是２維的。形式如[a,b] ,則二階多項式的特徵集如下[1,a,b,a^2,ab,b^2]。"
      ],
      "execution_count": null,
      "outputs": []
    },
    {
      "cell_type": "markdown",
      "metadata": {
        "id": "gnzVPWvTMtT5"
      },
      "source": [
        "### P.412"
      ]
    },
    {
      "cell_type": "code",
      "metadata": {
        "collapsed": true,
        "deletable": true,
        "editable": true,
        "id": "u_LUX0f8ENBn"
      },
      "source": [
        "from sklearn.pipeline import make_pipeline\n",
        "poly_model = make_pipeline(PolynomialFeatures(7),\n",
        "                           LinearRegression())"
      ],
      "execution_count": null,
      "outputs": []
    },
    {
      "cell_type": "code",
      "metadata": {
        "deletable": true,
        "editable": true,
        "colab": {
          "base_uri": "https://localhost:8080/",
          "height": 268
        },
        "id": "yDUnh_jhENBo",
        "outputId": "a9c42f0d-afca-46c3-b383-8486da474c18"
      },
      "source": [
        "rng = np.random.RandomState(1)\n",
        "x = 10 * rng.rand(50)\n",
        "y = np.sin(x) + 0.1 * rng.randn(50)\n",
        "\n",
        "poly_model.fit(x[:, np.newaxis], y)\n",
        "yfit = poly_model.predict(xfit[:, np.newaxis])\n",
        "\n",
        "plt.scatter(x, y)\n",
        "plt.plot(xfit, yfit);"
      ],
      "execution_count": null,
      "outputs": [
        {
          "output_type": "display_data",
          "data": {
            "image/png": "[encoded data removed]",
            "text/plain": [
              "<Figure size 432x288 with 1 Axes>"
            ]
          },
          "metadata": {
            "needs_background": "light"
          }
        }
      ]
    },
    {
      "cell_type": "markdown",
      "metadata": {
        "id": "M4WeoACgM_oj"
      },
      "source": [
        "### P.413"
      ]
    },
    {
      "cell_type": "markdown",
      "metadata": {
        "deletable": true,
        "editable": true,
        "id": "drgrb8VAENBp"
      },
      "source": [
        "### Gaussian basis functions\n",
        "\n",
        "Of course, other basis functions are possible.\n",
        "For example, one useful pattern is to fit a model that is not a sum of polynomial bases, but a sum of Gaussian bases.\n",
        "The result might look something like the following figure:"
      ]
    },
    {
      "cell_type": "code",
      "metadata": {
        "deletable": true,
        "editable": true,
        "colab": {
          "base_uri": "https://localhost:8080/",
          "height": 268
        },
        "id": "m7EG6KAsENBq",
        "outputId": "a209b9f4-601a-4d3a-9ea5-ee60a9d0c2aa"
      },
      "source": [
        "from sklearn.base import BaseEstimator, TransformerMixin\n",
        "\n",
        "class GaussianFeatures(BaseEstimator, TransformerMixin):\n",
        "    \"\"\"Uniformly spaced Gaussian features for one-dimensional input\"\"\"\n",
        "    \n",
        "    def __init__(self, N, width_factor=2.0):\n",
        "        self.N = N\n",
        "        self.width_factor = width_factor\n",
        "    \n",
        "    @staticmethod\n",
        "    def _gauss_basis(x, y, width, axis=None):\n",
        "        arg = (x - y) / width\n",
        "        return np.exp(-0.5 * np.sum(arg ** 2, axis))\n",
        "        \n",
        "    def fit(self, X, y=None):\n",
        "        # create N centers spread along the data range\n",
        "        self.centers_ = np.linspace(X.min(), X.max(), self.N)\n",
        "        self.width_ = self.width_factor * (self.centers_[1] - self.centers_[0])\n",
        "        return self\n",
        "        \n",
        "    def transform(self, X):\n",
        "        return self._gauss_basis(X[:, :, np.newaxis], self.centers_,\n",
        "                                 self.width_, axis=1)\n",
        "    \n",
        "gauss_model = make_pipeline(GaussianFeatures(20),\n",
        "                            LinearRegression())\n",
        "gauss_model.fit(x[:, np.newaxis], y)\n",
        "yfit = gauss_model.predict(xfit[:, np.newaxis])\n",
        "\n",
        "plt.scatter(x, y)\n",
        "plt.plot(xfit, yfit)\n",
        "plt.xlim(0, 10);"
      ],
      "execution_count": null,
      "outputs": [
        {
          "output_type": "display_data",
          "data": {
            "image/png": "[encoded data removed]",
            "text/plain": [
              "<Figure size 432x288 with 1 Axes>"
            ]
          },
          "metadata": {
            "needs_background": "light"
          }
        }
      ]
    },
    {
      "cell_type": "markdown",
      "metadata": {
        "id": "BQQk98tDNrV9"
      },
      "source": [
        "### P.415"
      ]
    },
    {
      "cell_type": "markdown",
      "metadata": {
        "deletable": true,
        "editable": true,
        "id": "z0O_YPTiENBr"
      },
      "source": [
        "## Regularization\n",
        "\n",
        "The introduction of basis functions into our linear regression makes the model much more flexible, but it also can very quickly lead to over-fitting (refer back to [Hyperparameters and Model Validation](05.03-Hyperparameters-and-Model-Validation.ipynb) for a discussion of this).\n",
        "For example, if we choose too many Gaussian basis functions, we end up with results that don't look so good:"
      ]
    },
    {
      "cell_type": "code",
      "metadata": {
        "id": "mko2ADIMNQey"
      },
      "source": [
        "# 以前有學過，正規化即是將各原始數值(看起來像振福)，壓縮在-1~1之間(可自己設定)"
      ],
      "execution_count": null,
      "outputs": []
    },
    {
      "cell_type": "code",
      "metadata": {
        "deletable": true,
        "editable": true,
        "colab": {
          "base_uri": "https://localhost:8080/",
          "height": 272
        },
        "id": "ES9O3zq_ENBr",
        "outputId": "8fe30170-10b2-4c60-de60-c0122dd5f87f"
      },
      "source": [
        "model = make_pipeline(GaussianFeatures(30),\n",
        "                      LinearRegression())\n",
        "model.fit(x[:, np.newaxis], y)\n",
        "\n",
        "plt.scatter(x, y)\n",
        "plt.plot(xfit, model.predict(xfit[:, np.newaxis]))\n",
        "\n",
        "plt.xlim(0, 10)\n",
        "plt.ylim(-1.5, 1.5);# 這邊就預設在-1.5~1.5之間"
      ],
      "execution_count": null,
      "outputs": [
        {
          "output_type": "display_data",
          "data": {
            "image/png": "[encoded data removed]",
            "text/plain": [
              "<Figure size 432x288 with 1 Axes>"
            ]
          },
          "metadata": {
            "needs_background": "light"
          }
        }
      ]
    },
    {
      "cell_type": "markdown",
      "metadata": {
        "id": "PgNYywpIODTS"
      },
      "source": [
        "### P.416"
      ]
    },
    {
      "cell_type": "code",
      "metadata": {
        "deletable": true,
        "editable": true,
        "colab": {
          "base_uri": "https://localhost:8080/",
          "height": 285
        },
        "id": "s95Q7pymENBr",
        "outputId": "f8a8e319-fd6d-403d-baf7-176a1b16269b"
      },
      "source": [
        "def basis_plot(model, title=None):\n",
        "    fig, ax = plt.subplots(2, sharex=True)\n",
        "    model.fit(x[:, np.newaxis], y)\n",
        "    ax[0].scatter(x, y)\n",
        "    ax[0].plot(xfit, model.predict(xfit[:, np.newaxis]))\n",
        "    ax[0].set(xlabel='x', ylabel='y', ylim=(-1.5, 1.5))\n",
        "    \n",
        "    if title:\n",
        "        ax[0].set_title(title)\n",
        "\n",
        "    ax[1].plot(model.steps[0][1].centers_,\n",
        "               model.steps[1][1].coef_)\n",
        "    ax[1].set(xlabel='basis location',\n",
        "              ylabel='coefficient',\n",
        "              xlim=(0, 10))\n",
        "    \n",
        "model = make_pipeline(GaussianFeatures(30), LinearRegression())\n",
        "basis_plot(model)"
      ],
      "execution_count": null,
      "outputs": [
        {
          "output_type": "display_data",
          "data": {
            "image/png": "[encoded data removed]",
            "text/plain": [
              "<Figure size 432x288 with 2 Axes>"
            ]
          },
          "metadata": {
            "needs_background": "light"
          }
        }
      ]
    },
    {
      "cell_type": "code",
      "metadata": {
        "id": "s80qIXuWOOVP"
      },
      "source": [
        "# 正規化就是分成L1與L2，兩者正規化就是公式的稍有不同而已"
      ],
      "execution_count": null,
      "outputs": []
    },
    {
      "cell_type": "code",
      "metadata": {
        "id": "encAuz2COZpF"
      },
      "source": [
        "# L2就是平方!!!"
      ],
      "execution_count": null,
      "outputs": []
    },
    {
      "cell_type": "markdown",
      "metadata": {
        "deletable": true,
        "editable": true,
        "id": "uv5WC_J5ENBs"
      },
      "source": [
        "### Ridge regression ($L_2$ Regularization)\n",
        "\n",
        "Perhaps the most common form of regularization is known as *ridge regression* or $L_2$ *regularization*, sometimes also called *Tikhonov regularization*.\n",
        "This proceeds by penalizing the sum of squares (2-norms) of the model coefficients; in this case, the penalty on the model fit would be \n",
        "$$\n",
        "P = \\alpha\\sum_{n=1}^N \\theta_n^2\n",
        "$$\n",
        "where $\\alpha$ is a free parameter that controls the strength of the penalty.\n",
        "This type of penalized model is built into Scikit-Learn with the ``Ridge`` estimator:"
      ]
    },
    {
      "cell_type": "markdown",
      "metadata": {
        "id": "CGuFSO4HOx-t"
      },
      "source": [
        "### P.417"
      ]
    },
    {
      "cell_type": "code",
      "metadata": {
        "deletable": true,
        "editable": true,
        "colab": {
          "base_uri": "https://localhost:8080/",
          "height": 301
        },
        "id": "026mefK7ENBt",
        "outputId": "f2422628-9c7b-4a5c-97ce-8459a4a258a2"
      },
      "source": [
        "from sklearn.linear_model import Ridge\n",
        "model = make_pipeline(GaussianFeatures(30), Ridge(alpha=0.1))\n",
        "basis_plot(model, title='Ridge Regression')"
      ],
      "execution_count": null,
      "outputs": [
        {
          "output_type": "display_data",
          "data": {
            "image/png": "[encoded data removed]",
            "text/plain": [
              "<Figure size 432x288 with 2 Axes>"
            ]
          },
          "metadata": {
            "needs_background": "light"
          }
        }
      ]
    },
    {
      "cell_type": "markdown",
      "metadata": {
        "deletable": true,
        "editable": true,
        "id": "QimiK6rkENBt"
      },
      "source": [
        "The $\\alpha$ parameter is essentially a knob controlling the complexity of the resulting model.\n",
        "In the limit $\\alpha \\to 0$, we recover the standard linear regression result; in the limit $\\alpha \\to \\infty$, all model responses will be suppressed.\n",
        "One advantage of ridge regression in particular is that it can be computed very efficiently—at hardly more computational cost than the original linear regression model."
      ]
    },
    {
      "cell_type": "code",
      "metadata": {
        "id": "4Wuyh2fBOfMR"
      },
      "source": [
        "# L2就是平方!!!\n",
        "# L2就是取絕對值!!!"
      ],
      "execution_count": null,
      "outputs": []
    },
    {
      "cell_type": "markdown",
      "metadata": {
        "deletable": true,
        "editable": true,
        "id": "EuRBb0MnENBt"
      },
      "source": [
        "### Lasso regression ($L_1$ regularization)\n",
        "\n",
        "Another very common type of regularization is known as lasso, and involves penalizing the sum of absolute values (1-norms) of regression coefficients:\n",
        "$$\n",
        "P = \\alpha\\sum_{n=1}^N |\\theta_n|\n",
        "$$\n",
        "Though this is conceptually very similar to ridge regression, the results can differ surprisingly: for example, due to geometric reasons lasso regression tends to favor *sparse models* where possible: that is, it preferentially sets model coefficients to exactly zero.\n",
        "\n",
        "We can see this behavior in duplicating the ridge regression figure, but using L1-normalized coefficients:"
      ]
    },
    {
      "cell_type": "markdown",
      "metadata": {
        "id": "lo6bOcWyPCLJ"
      },
      "source": [
        "### P.418"
      ]
    },
    {
      "cell_type": "code",
      "metadata": {
        "deletable": true,
        "editable": true,
        "colab": {
          "base_uri": "https://localhost:8080/",
          "height": 354
        },
        "id": "pfXKeddQENBt",
        "outputId": "827f5449-d945-4c63-d4e5-af5de3e649d7"
      },
      "source": [
        "from sklearn.linear_model import Lasso\n",
        "model = make_pipeline(GaussianFeatures(30), Lasso(alpha=0.001))\n",
        "basis_plot(model, title='Lasso Regression')"
      ],
      "execution_count": null,
      "outputs": [
        {
          "output_type": "stream",
          "text": [
            "/usr/local/lib/python3.7/dist-packages/sklearn/linear_model/_coordinate_descent.py:476: ConvergenceWarning: Objective did not converge. You might want to increase the number of iterations. Duality gap: 0.002135815870488944, tolerance: 0.002065280097246271\n",
            "  positive)\n"
          ],
          "name": "stderr"
        },
        {
          "output_type": "display_data",
          "data": {
            "image/png": "[encoded data removed]",
            "text/plain": [
              "<Figure size 432x288 with 2 Axes>"
            ]
          },
          "metadata": {
            "needs_background": "light"
          }
        }
      ]
    },
    {
      "cell_type": "markdown",
      "metadata": {
        "id": "GBn_64OSY1N-"
      },
      "source": [
        "### P.418～P.423"
      ]
    },
    {
      "cell_type": "markdown",
      "metadata": {
        "deletable": true,
        "editable": true,
        "id": "-EOhtz0DENBu"
      },
      "source": [
        "## Example: Predicting Bicycle Traffic"
      ]
    },
    {
      "cell_type": "code",
      "metadata": {
        "id": "DIXXDXE2Pevp"
      },
      "source": [
        "# 就像股票技術圖形，可以預測未來走勢發展 -> 只適用於短期"
      ],
      "execution_count": null,
      "outputs": []
    },
    {
      "cell_type": "code",
      "metadata": {
        "collapsed": true,
        "deletable": true,
        "editable": true,
        "id": "4FMWTj1xENBu"
      },
      "source": [
        "# !curl -o FremontBridge.csv https://data.seattle.gov/api/views/65db-xm6k/rows.csv?accessType=DOWNLOAD"
      ],
      "execution_count": null,
      "outputs": []
    },
    {
      "cell_type": "code",
      "metadata": {
        "colab": {
          "base_uri": "https://localhost:8080/"
        },
        "id": "1XiYyVdNQncP",
        "outputId": "a2f2d3dd-591b-4cf4-b4c4-63ac447e4614"
      },
      "source": [
        "!curl -o FremontBridge.csv https://data.seattle.gov/api/views/65db-xm6k/rows.csv?accessType=DOWNLOAD"
      ],
      "execution_count": null,
      "outputs": [
        {
          "output_type": "stream",
          "text": [
            "  % Total    % Received % Xferd  Average Speed   Time    Time     Time  Current\n",
            "                                 Dload  Upload   Total   Spent    Left  Speed\n",
            "100 4472k    0 4472k    0     0  1518k      0 --:--:--  0:00:02 --:--:-- 1518k\n"
          ],
          "name": "stdout"
        }
      ]
    },
    {
      "cell_type": "code",
      "metadata": {
        "deletable": true,
        "editable": true,
        "id": "G_XOJMYEENBu"
      },
      "source": [
        "import pandas as pd\n",
        "counts = pd.read_csv('FremontBridge.csv', index_col='Date', parse_dates=True)\n",
        "weather = pd.read_csv('/content/BicycleWeather.csv', index_col='DATE', parse_dates=True)"
      ],
      "execution_count": null,
      "outputs": []
    },
    {
      "cell_type": "code",
      "metadata": {
        "deletable": true,
        "editable": true,
        "id": "NK3ZUmG9ENBv"
      },
      "source": [
        "daily = counts.resample('d').sum()\n",
        "daily['Total'] = daily.sum(axis=1)\n",
        "daily = daily[['Total']] # remove other columns"
      ],
      "execution_count": null,
      "outputs": []
    },
    {
      "cell_type": "code",
      "metadata": {
        "collapsed": true,
        "deletable": true,
        "editable": true,
        "id": "LX5Kr1cUENBv"
      },
      "source": [
        "days = ['Mon', 'Tue', 'Wed', 'Thu', 'Fri', 'Sat', 'Sun']\n",
        "for i in range(7):\n",
        "    daily[days[i]] = (daily.index.dayofweek == i).astype(float)"
      ],
      "execution_count": null,
      "outputs": []
    },
    {
      "cell_type": "code",
      "metadata": {
        "deletable": true,
        "editable": true,
        "id": "ZqXg9-QuENBv"
      },
      "source": [
        "from pandas.tseries.holiday import USFederalHolidayCalendar\n",
        "cal = USFederalHolidayCalendar()\n",
        "holidays = cal.holidays('2012', '2016')\n",
        "daily = daily.join(pd.Series(1, index=holidays, name='holiday'))\n",
        "daily['holiday'].fillna(0, inplace=True)"
      ],
      "execution_count": null,
      "outputs": []
    },
    {
      "cell_type": "code",
      "metadata": {
        "deletable": true,
        "editable": true,
        "colab": {
          "base_uri": "https://localhost:8080/",
          "height": 359
        },
        "id": "QEo48sUWENBw",
        "outputId": "1d7ac005-51df-476c-b39f-136bb770b51b"
      },
      "source": [
        "def hours_of_daylight(date, axis=23.44, latitude=47.61):\n",
        "    \"\"\"Compute the hours of daylight for the given date\"\"\"\n",
        "    days = (date - pd.datetime(2000, 12, 21)).days\n",
        "    m = (1. - np.tan(np.radians(latitude))\n",
        "         * np.tan(np.radians(axis) * np.cos(days * 2 * np.pi / 365.25)))\n",
        "    return 24. * np.degrees(np.arccos(1 - np.clip(m, 0, 2))) / 180.\n",
        "\n",
        "daily['daylight_hrs'] = list(map(hours_of_daylight, daily.index))\n",
        "daily[['daylight_hrs']].plot()\n",
        "plt.ylim(8, 17)"
      ],
      "execution_count": null,
      "outputs": [
        {
          "output_type": "stream",
          "text": [
            "/usr/local/lib/python3.7/dist-packages/ipykernel_launcher.py:3: FutureWarning: The pandas.datetime class is deprecated and will be removed from pandas in a future version. Import from datetime module instead.\n",
            "  This is separate from the ipykernel package so we can avoid doing imports until\n"
          ],
          "name": "stderr"
        },
        {
          "output_type": "execute_result",
          "data": {
            "text/plain": [
              "(8.0, 17.0)"
            ]
          },
          "metadata": {},
          "execution_count": 44
        },
        {
          "output_type": "display_data",
          "data": {
            "image/png": "[encoded data removed]",
            "text/plain": [
              "<Figure size 432x288 with 1 Axes>"
            ]
          },
          "metadata": {
            "needs_background": "light"
          }
        }
      ]
    },
    {
      "cell_type": "code",
      "metadata": {
        "deletable": true,
        "editable": true,
        "id": "_2TyvOfaENBw"
      },
      "source": [
        "# temperatures are in 1/10 deg C; convert to C\n",
        "weather['TMIN'] /= 10\n",
        "weather['TMAX'] /= 10\n",
        "weather['Temp (C)'] = 0.5 * (weather['TMIN'] + weather['TMAX'])\n",
        "\n",
        "# precip is in 1/10 mm; convert to inches\n",
        "weather['PRCP'] /= 254\n",
        "weather['dry day'] = (weather['PRCP'] == 0).astype(int)\n",
        "\n",
        "daily = daily.join(weather[['PRCP', 'Temp (C)', 'dry day']])"
      ],
      "execution_count": null,
      "outputs": []
    },
    {
      "cell_type": "code",
      "metadata": {
        "deletable": true,
        "editable": true,
        "id": "bS7bYHYRENBx"
      },
      "source": [
        "daily['annual'] = (daily.index - daily.index[0]).days / 365."
      ],
      "execution_count": null,
      "outputs": []
    },
    {
      "cell_type": "code",
      "metadata": {
        "deletable": true,
        "editable": true,
        "colab": {
          "base_uri": "https://localhost:8080/",
          "height": 234
        },
        "id": "1VKHjl_TENBx",
        "outputId": "86150002-91d6-43c8-a876-3cbe01efbc25"
      },
      "source": [
        "daily.head()"
      ],
      "execution_count": null,
      "outputs": [
        {
          "output_type": "execute_result",
          "data": {
            "text/html": [
              "<div>\n",
              "<style scoped>\n",
              "    .dataframe tbody tr th:only-of-type {\n",
              "        vertical-align: middle;\n",
              "    }\n",
              "\n",
              "    .dataframe tbody tr th {\n",
              "        vertical-align: top;\n",
              "    }\n",
              "\n",
              "    .dataframe thead th {\n",
              "        text-align: right;\n",
              "    }\n",
              "</style>\n",
              "<table border=\"1\" class=\"dataframe\">\n",
              "  <thead>\n",
              "    <tr style=\"text-align: right;\">\n",
              "      <th></th>\n",
              "      <th>Total</th>\n",
              "      <th>Mon</th>\n",
              "      <th>Tue</th>\n",
              "      <th>Wed</th>\n",
              "      <th>Thu</th>\n",
              "      <th>Fri</th>\n",
              "      <th>Sat</th>\n",
              "      <th>Sun</th>\n",
              "      <th>holiday</th>\n",
              "      <th>daylight_hrs</th>\n",
              "      <th>PRCP</th>\n",
              "      <th>Temp (C)</th>\n",
              "      <th>dry day</th>\n",
              "      <th>annual</th>\n",
              "    </tr>\n",
              "    <tr>\n",
              "      <th>Date</th>\n",
              "      <th></th>\n",
              "      <th></th>\n",
              "      <th></th>\n",
              "      <th></th>\n",
              "      <th></th>\n",
              "      <th></th>\n",
              "      <th></th>\n",
              "      <th></th>\n",
              "      <th></th>\n",
              "      <th></th>\n",
              "      <th></th>\n",
              "      <th></th>\n",
              "      <th></th>\n",
              "      <th></th>\n",
              "    </tr>\n",
              "  </thead>\n",
              "  <tbody>\n",
              "    <tr>\n",
              "      <th>2012-10-03</th>\n",
              "      <td>14084.0</td>\n",
              "      <td>0.0</td>\n",
              "      <td>0.0</td>\n",
              "      <td>1.0</td>\n",
              "      <td>0.0</td>\n",
              "      <td>0.0</td>\n",
              "      <td>0.0</td>\n",
              "      <td>0.0</td>\n",
              "      <td>0.0</td>\n",
              "      <td>11.277359</td>\n",
              "      <td>0.0</td>\n",
              "      <td>13.35</td>\n",
              "      <td>1.0</td>\n",
              "      <td>0.000000</td>\n",
              "    </tr>\n",
              "    <tr>\n",
              "      <th>2012-10-04</th>\n",
              "      <td>13900.0</td>\n",
              "      <td>0.0</td>\n",
              "      <td>0.0</td>\n",
              "      <td>0.0</td>\n",
              "      <td>1.0</td>\n",
              "      <td>0.0</td>\n",
              "      <td>0.0</td>\n",
              "      <td>0.0</td>\n",
              "      <td>0.0</td>\n",
              "      <td>11.219142</td>\n",
              "      <td>0.0</td>\n",
              "      <td>13.60</td>\n",
              "      <td>1.0</td>\n",
              "      <td>0.002740</td>\n",
              "    </tr>\n",
              "    <tr>\n",
              "      <th>2012-10-05</th>\n",
              "      <td>12592.0</td>\n",
              "      <td>0.0</td>\n",
              "      <td>0.0</td>\n",
              "      <td>0.0</td>\n",
              "      <td>0.0</td>\n",
              "      <td>1.0</td>\n",
              "      <td>0.0</td>\n",
              "      <td>0.0</td>\n",
              "      <td>0.0</td>\n",
              "      <td>11.161038</td>\n",
              "      <td>0.0</td>\n",
              "      <td>15.30</td>\n",
              "      <td>1.0</td>\n",
              "      <td>0.005479</td>\n",
              "    </tr>\n",
              "    <tr>\n",
              "      <th>2012-10-06</th>\n",
              "      <td>8024.0</td>\n",
              "      <td>0.0</td>\n",
              "      <td>0.0</td>\n",
              "      <td>0.0</td>\n",
              "      <td>0.0</td>\n",
              "      <td>0.0</td>\n",
              "      <td>1.0</td>\n",
              "      <td>0.0</td>\n",
              "      <td>0.0</td>\n",
              "      <td>11.103056</td>\n",
              "      <td>0.0</td>\n",
              "      <td>15.85</td>\n",
              "      <td>1.0</td>\n",
              "      <td>0.008219</td>\n",
              "    </tr>\n",
              "    <tr>\n",
              "      <th>2012-10-07</th>\n",
              "      <td>8568.0</td>\n",
              "      <td>0.0</td>\n",
              "      <td>0.0</td>\n",
              "      <td>0.0</td>\n",
              "      <td>0.0</td>\n",
              "      <td>0.0</td>\n",
              "      <td>0.0</td>\n",
              "      <td>1.0</td>\n",
              "      <td>0.0</td>\n",
              "      <td>11.045208</td>\n",
              "      <td>0.0</td>\n",
              "      <td>15.85</td>\n",
              "      <td>1.0</td>\n",
              "      <td>0.010959</td>\n",
              "    </tr>\n",
              "  </tbody>\n",
              "</table>\n",
              "</div>"
            ],
            "text/plain": [
              "              Total  Mon  Tue  Wed  ...  PRCP  Temp (C)  dry day    annual\n",
              "Date                                ...                                   \n",
              "2012-10-03  14084.0  0.0  0.0  1.0  ...   0.0     13.35      1.0  0.000000\n",
              "2012-10-04  13900.0  0.0  0.0  0.0  ...   0.0     13.60      1.0  0.002740\n",
              "2012-10-05  12592.0  0.0  0.0  0.0  ...   0.0     15.30      1.0  0.005479\n",
              "2012-10-06   8024.0  0.0  0.0  0.0  ...   0.0     15.85      1.0  0.008219\n",
              "2012-10-07   8568.0  0.0  0.0  0.0  ...   0.0     15.85      1.0  0.010959\n",
              "\n",
              "[5 rows x 14 columns]"
            ]
          },
          "metadata": {},
          "execution_count": 47
        }
      ]
    },
    {
      "cell_type": "code",
      "metadata": {
        "deletable": true,
        "editable": true,
        "id": "6HtwmgIsENBx"
      },
      "source": [
        "# Drop any rows with null values\n",
        "daily.dropna(axis=0, how='any', inplace=True)\n",
        "\n",
        "column_names = ['Mon', 'Tue', 'Wed', 'Thu', 'Fri', 'Sat', 'Sun', 'holiday',\n",
        "                'daylight_hrs', 'PRCP', 'dry day', 'Temp (C)', 'annual']\n",
        "X = daily[column_names]\n",
        "y = daily['Total']\n",
        "\n",
        "model = LinearRegression(fit_intercept=False)\n",
        "model.fit(X, y)\n",
        "daily['predicted'] = model.predict(X)"
      ],
      "execution_count": null,
      "outputs": []
    },
    {
      "cell_type": "code",
      "metadata": {
        "deletable": true,
        "editable": true,
        "colab": {
          "base_uri": "https://localhost:8080/",
          "height": 296
        },
        "id": "Onp_KrbgENBy",
        "outputId": "954ed769-1c1c-4e7b-b7ed-d35194f6fde7"
      },
      "source": [
        "daily[['Total', 'predicted']].plot(alpha=0.5);"
      ],
      "execution_count": null,
      "outputs": [
        {
          "output_type": "display_data",
          "data": {
            "image/png": "[encoded data removed]",
            "text/plain": [
              "<Figure size 432x288 with 1 Axes>"
            ]
          },
          "metadata": {
            "needs_background": "light"
          }
        }
      ]
    },
    {
      "cell_type": "code",
      "metadata": {
        "deletable": true,
        "editable": true,
        "colab": {
          "base_uri": "https://localhost:8080/"
        },
        "id": "nTZ9bKPsENBy",
        "outputId": "2656795e-d490-45f9-9b63-8396ae261370"
      },
      "source": [
        "params = pd.Series(model.coef_, index=X.columns)\n",
        "params"
      ],
      "execution_count": null,
      "outputs": [
        {
          "output_type": "execute_result",
          "data": {
            "text/plain": [
              "Mon             2019.531023\n",
              "Tue             2440.935744\n",
              "Wed             2370.694566\n",
              "Thu             1929.432461\n",
              "Fri              711.921382\n",
              "Sat            -4413.206842\n",
              "Sun            -4534.268983\n",
              "holiday        -4749.605523\n",
              "daylight_hrs     515.406045\n",
              "PRCP           -2659.339527\n",
              "dry day         2190.794369\n",
              "Temp (C)         260.651164\n",
              "annual           107.770852\n",
              "dtype: float64"
            ]
          },
          "metadata": {},
          "execution_count": 50
        }
      ]
    },
    {
      "cell_type": "code",
      "metadata": {
        "deletable": true,
        "editable": true,
        "id": "0xV3B1tEENBy"
      },
      "source": [
        "from sklearn.utils import resample\n",
        "np.random.seed(1)\n",
        "err = np.std([model.fit(*resample(X, y)).coef_\n",
        "              for i in range(1000)], 0)"
      ],
      "execution_count": null,
      "outputs": []
    },
    {
      "cell_type": "code",
      "metadata": {
        "deletable": true,
        "editable": true,
        "colab": {
          "base_uri": "https://localhost:8080/"
        },
        "id": "JNhzqf8KENBz",
        "outputId": "6c6a4409-2fd3-4a51-fdc7-7586f2592dc2"
      },
      "source": [
        "print(pd.DataFrame({'effect': params.round(0),\n",
        "                    'error': err.round(0)}))"
      ],
      "execution_count": null,
      "outputs": [
        {
          "output_type": "stream",
          "text": [
            "              effect  error\n",
            "Mon           2020.0  345.0\n",
            "Tue           2441.0  333.0\n",
            "Wed           2371.0  331.0\n",
            "Thu           1929.0  341.0\n",
            "Fri            712.0  324.0\n",
            "Sat          -4413.0  318.0\n",
            "Sun          -4534.0  332.0\n",
            "holiday      -4750.0  653.0\n",
            "daylight_hrs   515.0   36.0\n",
            "PRCP         -2659.0  249.0\n",
            "dry day       2191.0  133.0\n",
            "Temp (C)       261.0   14.0\n",
            "annual         108.0   71.0\n"
          ],
          "name": "stdout"
        }
      ]
    },
    {
      "cell_type": "code",
      "metadata": {
        "id": "p49A1USXXzZV"
      },
      "source": [
        "# 利用現有資料，尋找騎自行車流量變化的因素\n",
        "# 結論如下：\n",
        "# (1) 工作日騎的人 > 假日騎的人\n",
        "# (2) 若下雨：騎腳踏車的人降低很多"
      ],
      "execution_count": null,
      "outputs": []
    }
  ]
}